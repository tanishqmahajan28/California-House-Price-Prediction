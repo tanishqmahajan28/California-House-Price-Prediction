{
  "cells": [
    {
      "cell_type": "markdown",
      "metadata": {
        "id": "XjPXq3z2FwJC"
      },
      "source": [
        "# Importing the data"
      ]
    },
    {
      "cell_type": "code",
      "execution_count": 7,
      "metadata": {
        "colab": {
          "base_uri": "https://localhost:8080/",
          "height": 423
        },
        "id": "L4NTsavqQYTV",
        "outputId": "2bb5dfaa-0866-4039-d2af-3b2365d8d337"
      },
      "outputs": [
        {
          "output_type": "execute_result",
          "data": {
            "text/plain": [
              "       longitude  latitude  housing_median_age  total_rooms  total_bedrooms  \\\n",
              "0        -122.23     37.88                  41          880           129.0   \n",
              "1        -122.22     37.86                  21         7099          1106.0   \n",
              "2        -122.24     37.85                  52         1467           190.0   \n",
              "3        -122.25     37.85                  52         1274           235.0   \n",
              "4        -122.25     37.85                  52         1627           280.0   \n",
              "...          ...       ...                 ...          ...             ...   \n",
              "20635    -121.09     39.48                  25         1665           374.0   \n",
              "20636    -121.21     39.49                  18          697           150.0   \n",
              "20637    -121.22     39.43                  17         2254           485.0   \n",
              "20638    -121.32     39.43                  18         1860           409.0   \n",
              "20639    -121.24     39.37                  16         2785           616.0   \n",
              "\n",
              "       population  households  median_income ocean_proximity  \\\n",
              "0             322         126         8.3252        NEAR BAY   \n",
              "1            2401        1138         8.3014        NEAR BAY   \n",
              "2             496         177         7.2574        NEAR BAY   \n",
              "3             558         219         5.6431        NEAR BAY   \n",
              "4             565         259         3.8462        NEAR BAY   \n",
              "...           ...         ...            ...             ...   \n",
              "20635         845         330         1.5603          INLAND   \n",
              "20636         356         114         2.5568          INLAND   \n",
              "20637        1007         433         1.7000          INLAND   \n",
              "20638         741         349         1.8672          INLAND   \n",
              "20639        1387         530         2.3886          INLAND   \n",
              "\n",
              "       median_house_value  \n",
              "0                  452600  \n",
              "1                  358500  \n",
              "2                  352100  \n",
              "3                  341300  \n",
              "4                  342200  \n",
              "...                   ...  \n",
              "20635               78100  \n",
              "20636               77100  \n",
              "20637               92300  \n",
              "20638               84700  \n",
              "20639               89400  \n",
              "\n",
              "[20640 rows x 10 columns]"
            ],
            "text/html": [
              "\n",
              "  <div id=\"df-850c514a-26a2-437e-91f3-faa8836f91ed\" class=\"colab-df-container\">\n",
              "    <div>\n",
              "<style scoped>\n",
              "    .dataframe tbody tr th:only-of-type {\n",
              "        vertical-align: middle;\n",
              "    }\n",
              "\n",
              "    .dataframe tbody tr th {\n",
              "        vertical-align: top;\n",
              "    }\n",
              "\n",
              "    .dataframe thead th {\n",
              "        text-align: right;\n",
              "    }\n",
              "</style>\n",
              "<table border=\"1\" class=\"dataframe\">\n",
              "  <thead>\n",
              "    <tr style=\"text-align: right;\">\n",
              "      <th></th>\n",
              "      <th>longitude</th>\n",
              "      <th>latitude</th>\n",
              "      <th>housing_median_age</th>\n",
              "      <th>total_rooms</th>\n",
              "      <th>total_bedrooms</th>\n",
              "      <th>population</th>\n",
              "      <th>households</th>\n",
              "      <th>median_income</th>\n",
              "      <th>ocean_proximity</th>\n",
              "      <th>median_house_value</th>\n",
              "    </tr>\n",
              "  </thead>\n",
              "  <tbody>\n",
              "    <tr>\n",
              "      <th>0</th>\n",
              "      <td>-122.23</td>\n",
              "      <td>37.88</td>\n",
              "      <td>41</td>\n",
              "      <td>880</td>\n",
              "      <td>129.0</td>\n",
              "      <td>322</td>\n",
              "      <td>126</td>\n",
              "      <td>8.3252</td>\n",
              "      <td>NEAR BAY</td>\n",
              "      <td>452600</td>\n",
              "    </tr>\n",
              "    <tr>\n",
              "      <th>1</th>\n",
              "      <td>-122.22</td>\n",
              "      <td>37.86</td>\n",
              "      <td>21</td>\n",
              "      <td>7099</td>\n",
              "      <td>1106.0</td>\n",
              "      <td>2401</td>\n",
              "      <td>1138</td>\n",
              "      <td>8.3014</td>\n",
              "      <td>NEAR BAY</td>\n",
              "      <td>358500</td>\n",
              "    </tr>\n",
              "    <tr>\n",
              "      <th>2</th>\n",
              "      <td>-122.24</td>\n",
              "      <td>37.85</td>\n",
              "      <td>52</td>\n",
              "      <td>1467</td>\n",
              "      <td>190.0</td>\n",
              "      <td>496</td>\n",
              "      <td>177</td>\n",
              "      <td>7.2574</td>\n",
              "      <td>NEAR BAY</td>\n",
              "      <td>352100</td>\n",
              "    </tr>\n",
              "    <tr>\n",
              "      <th>3</th>\n",
              "      <td>-122.25</td>\n",
              "      <td>37.85</td>\n",
              "      <td>52</td>\n",
              "      <td>1274</td>\n",
              "      <td>235.0</td>\n",
              "      <td>558</td>\n",
              "      <td>219</td>\n",
              "      <td>5.6431</td>\n",
              "      <td>NEAR BAY</td>\n",
              "      <td>341300</td>\n",
              "    </tr>\n",
              "    <tr>\n",
              "      <th>4</th>\n",
              "      <td>-122.25</td>\n",
              "      <td>37.85</td>\n",
              "      <td>52</td>\n",
              "      <td>1627</td>\n",
              "      <td>280.0</td>\n",
              "      <td>565</td>\n",
              "      <td>259</td>\n",
              "      <td>3.8462</td>\n",
              "      <td>NEAR BAY</td>\n",
              "      <td>342200</td>\n",
              "    </tr>\n",
              "    <tr>\n",
              "      <th>...</th>\n",
              "      <td>...</td>\n",
              "      <td>...</td>\n",
              "      <td>...</td>\n",
              "      <td>...</td>\n",
              "      <td>...</td>\n",
              "      <td>...</td>\n",
              "      <td>...</td>\n",
              "      <td>...</td>\n",
              "      <td>...</td>\n",
              "      <td>...</td>\n",
              "    </tr>\n",
              "    <tr>\n",
              "      <th>20635</th>\n",
              "      <td>-121.09</td>\n",
              "      <td>39.48</td>\n",
              "      <td>25</td>\n",
              "      <td>1665</td>\n",
              "      <td>374.0</td>\n",
              "      <td>845</td>\n",
              "      <td>330</td>\n",
              "      <td>1.5603</td>\n",
              "      <td>INLAND</td>\n",
              "      <td>78100</td>\n",
              "    </tr>\n",
              "    <tr>\n",
              "      <th>20636</th>\n",
              "      <td>-121.21</td>\n",
              "      <td>39.49</td>\n",
              "      <td>18</td>\n",
              "      <td>697</td>\n",
              "      <td>150.0</td>\n",
              "      <td>356</td>\n",
              "      <td>114</td>\n",
              "      <td>2.5568</td>\n",
              "      <td>INLAND</td>\n",
              "      <td>77100</td>\n",
              "    </tr>\n",
              "    <tr>\n",
              "      <th>20637</th>\n",
              "      <td>-121.22</td>\n",
              "      <td>39.43</td>\n",
              "      <td>17</td>\n",
              "      <td>2254</td>\n",
              "      <td>485.0</td>\n",
              "      <td>1007</td>\n",
              "      <td>433</td>\n",
              "      <td>1.7000</td>\n",
              "      <td>INLAND</td>\n",
              "      <td>92300</td>\n",
              "    </tr>\n",
              "    <tr>\n",
              "      <th>20638</th>\n",
              "      <td>-121.32</td>\n",
              "      <td>39.43</td>\n",
              "      <td>18</td>\n",
              "      <td>1860</td>\n",
              "      <td>409.0</td>\n",
              "      <td>741</td>\n",
              "      <td>349</td>\n",
              "      <td>1.8672</td>\n",
              "      <td>INLAND</td>\n",
              "      <td>84700</td>\n",
              "    </tr>\n",
              "    <tr>\n",
              "      <th>20639</th>\n",
              "      <td>-121.24</td>\n",
              "      <td>39.37</td>\n",
              "      <td>16</td>\n",
              "      <td>2785</td>\n",
              "      <td>616.0</td>\n",
              "      <td>1387</td>\n",
              "      <td>530</td>\n",
              "      <td>2.3886</td>\n",
              "      <td>INLAND</td>\n",
              "      <td>89400</td>\n",
              "    </tr>\n",
              "  </tbody>\n",
              "</table>\n",
              "<p>20640 rows × 10 columns</p>\n",
              "</div>\n",
              "    <div class=\"colab-df-buttons\">\n",
              "\n",
              "  <div class=\"colab-df-container\">\n",
              "    <button class=\"colab-df-convert\" onclick=\"convertToInteractive('df-850c514a-26a2-437e-91f3-faa8836f91ed')\"\n",
              "            title=\"Convert this dataframe to an interactive table.\"\n",
              "            style=\"display:none;\">\n",
              "\n",
              "  <svg xmlns=\"http://www.w3.org/2000/svg\" height=\"24px\" viewBox=\"0 -960 960 960\">\n",
              "    <path d=\"M120-120v-720h720v720H120Zm60-500h600v-160H180v160Zm220 220h160v-160H400v160Zm0 220h160v-160H400v160ZM180-400h160v-160H180v160Zm440 0h160v-160H620v160ZM180-180h160v-160H180v160Zm440 0h160v-160H620v160Z\"/>\n",
              "  </svg>\n",
              "    </button>\n",
              "\n",
              "  <style>\n",
              "    .colab-df-container {\n",
              "      display:flex;\n",
              "      gap: 12px;\n",
              "    }\n",
              "\n",
              "    .colab-df-convert {\n",
              "      background-color: #E8F0FE;\n",
              "      border: none;\n",
              "      border-radius: 50%;\n",
              "      cursor: pointer;\n",
              "      display: none;\n",
              "      fill: #1967D2;\n",
              "      height: 32px;\n",
              "      padding: 0 0 0 0;\n",
              "      width: 32px;\n",
              "    }\n",
              "\n",
              "    .colab-df-convert:hover {\n",
              "      background-color: #E2EBFA;\n",
              "      box-shadow: 0px 1px 2px rgba(60, 64, 67, 0.3), 0px 1px 3px 1px rgba(60, 64, 67, 0.15);\n",
              "      fill: #174EA6;\n",
              "    }\n",
              "\n",
              "    .colab-df-buttons div {\n",
              "      margin-bottom: 4px;\n",
              "    }\n",
              "\n",
              "    [theme=dark] .colab-df-convert {\n",
              "      background-color: #3B4455;\n",
              "      fill: #D2E3FC;\n",
              "    }\n",
              "\n",
              "    [theme=dark] .colab-df-convert:hover {\n",
              "      background-color: #434B5C;\n",
              "      box-shadow: 0px 1px 3px 1px rgba(0, 0, 0, 0.15);\n",
              "      filter: drop-shadow(0px 1px 2px rgba(0, 0, 0, 0.3));\n",
              "      fill: #FFFFFF;\n",
              "    }\n",
              "  </style>\n",
              "\n",
              "    <script>\n",
              "      const buttonEl =\n",
              "        document.querySelector('#df-850c514a-26a2-437e-91f3-faa8836f91ed button.colab-df-convert');\n",
              "      buttonEl.style.display =\n",
              "        google.colab.kernel.accessAllowed ? 'block' : 'none';\n",
              "\n",
              "      async function convertToInteractive(key) {\n",
              "        const element = document.querySelector('#df-850c514a-26a2-437e-91f3-faa8836f91ed');\n",
              "        const dataTable =\n",
              "          await google.colab.kernel.invokeFunction('convertToInteractive',\n",
              "                                                    [key], {});\n",
              "        if (!dataTable) return;\n",
              "\n",
              "        const docLinkHtml = 'Like what you see? Visit the ' +\n",
              "          '<a target=\"_blank\" href=https://colab.research.google.com/notebooks/data_table.ipynb>data table notebook</a>'\n",
              "          + ' to learn more about interactive tables.';\n",
              "        element.innerHTML = '';\n",
              "        dataTable['output_type'] = 'display_data';\n",
              "        await google.colab.output.renderOutput(dataTable, element);\n",
              "        const docLink = document.createElement('div');\n",
              "        docLink.innerHTML = docLinkHtml;\n",
              "        element.appendChild(docLink);\n",
              "      }\n",
              "    </script>\n",
              "  </div>\n",
              "\n",
              "\n",
              "<div id=\"df-ca351e03-c5df-47fc-82d8-d161daf10af1\">\n",
              "  <button class=\"colab-df-quickchart\" onclick=\"quickchart('df-ca351e03-c5df-47fc-82d8-d161daf10af1')\"\n",
              "            title=\"Suggest charts\"\n",
              "            style=\"display:none;\">\n",
              "\n",
              "<svg xmlns=\"http://www.w3.org/2000/svg\" height=\"24px\"viewBox=\"0 0 24 24\"\n",
              "     width=\"24px\">\n",
              "    <g>\n",
              "        <path d=\"M19 3H5c-1.1 0-2 .9-2 2v14c0 1.1.9 2 2 2h14c1.1 0 2-.9 2-2V5c0-1.1-.9-2-2-2zM9 17H7v-7h2v7zm4 0h-2V7h2v10zm4 0h-2v-4h2v4z\"/>\n",
              "    </g>\n",
              "</svg>\n",
              "  </button>\n",
              "\n",
              "<style>\n",
              "  .colab-df-quickchart {\n",
              "      --bg-color: #E8F0FE;\n",
              "      --fill-color: #1967D2;\n",
              "      --hover-bg-color: #E2EBFA;\n",
              "      --hover-fill-color: #174EA6;\n",
              "      --disabled-fill-color: #AAA;\n",
              "      --disabled-bg-color: #DDD;\n",
              "  }\n",
              "\n",
              "  [theme=dark] .colab-df-quickchart {\n",
              "      --bg-color: #3B4455;\n",
              "      --fill-color: #D2E3FC;\n",
              "      --hover-bg-color: #434B5C;\n",
              "      --hover-fill-color: #FFFFFF;\n",
              "      --disabled-bg-color: #3B4455;\n",
              "      --disabled-fill-color: #666;\n",
              "  }\n",
              "\n",
              "  .colab-df-quickchart {\n",
              "    background-color: var(--bg-color);\n",
              "    border: none;\n",
              "    border-radius: 50%;\n",
              "    cursor: pointer;\n",
              "    display: none;\n",
              "    fill: var(--fill-color);\n",
              "    height: 32px;\n",
              "    padding: 0;\n",
              "    width: 32px;\n",
              "  }\n",
              "\n",
              "  .colab-df-quickchart:hover {\n",
              "    background-color: var(--hover-bg-color);\n",
              "    box-shadow: 0 1px 2px rgba(60, 64, 67, 0.3), 0 1px 3px 1px rgba(60, 64, 67, 0.15);\n",
              "    fill: var(--button-hover-fill-color);\n",
              "  }\n",
              "\n",
              "  .colab-df-quickchart-complete:disabled,\n",
              "  .colab-df-quickchart-complete:disabled:hover {\n",
              "    background-color: var(--disabled-bg-color);\n",
              "    fill: var(--disabled-fill-color);\n",
              "    box-shadow: none;\n",
              "  }\n",
              "\n",
              "  .colab-df-spinner {\n",
              "    border: 2px solid var(--fill-color);\n",
              "    border-color: transparent;\n",
              "    border-bottom-color: var(--fill-color);\n",
              "    animation:\n",
              "      spin 1s steps(1) infinite;\n",
              "  }\n",
              "\n",
              "  @keyframes spin {\n",
              "    0% {\n",
              "      border-color: transparent;\n",
              "      border-bottom-color: var(--fill-color);\n",
              "      border-left-color: var(--fill-color);\n",
              "    }\n",
              "    20% {\n",
              "      border-color: transparent;\n",
              "      border-left-color: var(--fill-color);\n",
              "      border-top-color: var(--fill-color);\n",
              "    }\n",
              "    30% {\n",
              "      border-color: transparent;\n",
              "      border-left-color: var(--fill-color);\n",
              "      border-top-color: var(--fill-color);\n",
              "      border-right-color: var(--fill-color);\n",
              "    }\n",
              "    40% {\n",
              "      border-color: transparent;\n",
              "      border-right-color: var(--fill-color);\n",
              "      border-top-color: var(--fill-color);\n",
              "    }\n",
              "    60% {\n",
              "      border-color: transparent;\n",
              "      border-right-color: var(--fill-color);\n",
              "    }\n",
              "    80% {\n",
              "      border-color: transparent;\n",
              "      border-right-color: var(--fill-color);\n",
              "      border-bottom-color: var(--fill-color);\n",
              "    }\n",
              "    90% {\n",
              "      border-color: transparent;\n",
              "      border-bottom-color: var(--fill-color);\n",
              "    }\n",
              "  }\n",
              "</style>\n",
              "\n",
              "  <script>\n",
              "    async function quickchart(key) {\n",
              "      const quickchartButtonEl =\n",
              "        document.querySelector('#' + key + ' button');\n",
              "      quickchartButtonEl.disabled = true;  // To prevent multiple clicks.\n",
              "      quickchartButtonEl.classList.add('colab-df-spinner');\n",
              "      try {\n",
              "        const charts = await google.colab.kernel.invokeFunction(\n",
              "            'suggestCharts', [key], {});\n",
              "      } catch (error) {\n",
              "        console.error('Error during call to suggestCharts:', error);\n",
              "      }\n",
              "      quickchartButtonEl.classList.remove('colab-df-spinner');\n",
              "      quickchartButtonEl.classList.add('colab-df-quickchart-complete');\n",
              "    }\n",
              "    (() => {\n",
              "      let quickchartButtonEl =\n",
              "        document.querySelector('#df-ca351e03-c5df-47fc-82d8-d161daf10af1 button');\n",
              "      quickchartButtonEl.style.display =\n",
              "        google.colab.kernel.accessAllowed ? 'block' : 'none';\n",
              "    })();\n",
              "  </script>\n",
              "</div>\n",
              "\n",
              "  <div id=\"id_0329f85d-3dfb-4677-971c-e67e9444ebd2\">\n",
              "    <style>\n",
              "      .colab-df-generate {\n",
              "        background-color: #E8F0FE;\n",
              "        border: none;\n",
              "        border-radius: 50%;\n",
              "        cursor: pointer;\n",
              "        display: none;\n",
              "        fill: #1967D2;\n",
              "        height: 32px;\n",
              "        padding: 0 0 0 0;\n",
              "        width: 32px;\n",
              "      }\n",
              "\n",
              "      .colab-df-generate:hover {\n",
              "        background-color: #E2EBFA;\n",
              "        box-shadow: 0px 1px 2px rgba(60, 64, 67, 0.3), 0px 1px 3px 1px rgba(60, 64, 67, 0.15);\n",
              "        fill: #174EA6;\n",
              "      }\n",
              "\n",
              "      [theme=dark] .colab-df-generate {\n",
              "        background-color: #3B4455;\n",
              "        fill: #D2E3FC;\n",
              "      }\n",
              "\n",
              "      [theme=dark] .colab-df-generate:hover {\n",
              "        background-color: #434B5C;\n",
              "        box-shadow: 0px 1px 3px 1px rgba(0, 0, 0, 0.15);\n",
              "        filter: drop-shadow(0px 1px 2px rgba(0, 0, 0, 0.3));\n",
              "        fill: #FFFFFF;\n",
              "      }\n",
              "    </style>\n",
              "    <button class=\"colab-df-generate\" onclick=\"generateWithVariable('df')\"\n",
              "            title=\"Generate code using this dataframe.\"\n",
              "            style=\"display:none;\">\n",
              "\n",
              "  <svg xmlns=\"http://www.w3.org/2000/svg\" height=\"24px\"viewBox=\"0 0 24 24\"\n",
              "       width=\"24px\">\n",
              "    <path d=\"M7,19H8.4L18.45,9,17,7.55,7,17.6ZM5,21V16.75L18.45,3.32a2,2,0,0,1,2.83,0l1.4,1.43a1.91,1.91,0,0,1,.58,1.4,1.91,1.91,0,0,1-.58,1.4L9.25,21ZM18.45,9,17,7.55Zm-12,3A5.31,5.31,0,0,0,4.9,8.1,5.31,5.31,0,0,0,1,6.5,5.31,5.31,0,0,0,4.9,4.9,5.31,5.31,0,0,0,6.5,1,5.31,5.31,0,0,0,8.1,4.9,5.31,5.31,0,0,0,12,6.5,5.46,5.46,0,0,0,6.5,12Z\"/>\n",
              "  </svg>\n",
              "    </button>\n",
              "    <script>\n",
              "      (() => {\n",
              "      const buttonEl =\n",
              "        document.querySelector('#id_0329f85d-3dfb-4677-971c-e67e9444ebd2 button.colab-df-generate');\n",
              "      buttonEl.style.display =\n",
              "        google.colab.kernel.accessAllowed ? 'block' : 'none';\n",
              "\n",
              "      buttonEl.onclick = () => {\n",
              "        google.colab.notebook.generateWithVariable('df');\n",
              "      }\n",
              "      })();\n",
              "    </script>\n",
              "  </div>\n",
              "\n",
              "    </div>\n",
              "  </div>\n"
            ],
            "application/vnd.google.colaboratory.intrinsic+json": {
              "type": "dataframe",
              "variable_name": "df",
              "summary": "{\n  \"name\": \"df\",\n  \"rows\": 20640,\n  \"fields\": [\n    {\n      \"column\": \"longitude\",\n      \"properties\": {\n        \"dtype\": \"number\",\n        \"std\": 2.0035317235025882,\n        \"min\": -124.35,\n        \"max\": -114.31,\n        \"num_unique_values\": 844,\n        \"samples\": [\n          -118.63,\n          -119.86,\n          -121.26\n        ],\n        \"semantic_type\": \"\",\n        \"description\": \"\"\n      }\n    },\n    {\n      \"column\": \"latitude\",\n      \"properties\": {\n        \"dtype\": \"number\",\n        \"std\": 2.1359523974571153,\n        \"min\": 32.54,\n        \"max\": 41.95,\n        \"num_unique_values\": 862,\n        \"samples\": [\n          33.7,\n          34.41,\n          38.24\n        ],\n        \"semantic_type\": \"\",\n        \"description\": \"\"\n      }\n    },\n    {\n      \"column\": \"housing_median_age\",\n      \"properties\": {\n        \"dtype\": \"number\",\n        \"std\": 12,\n        \"min\": 1,\n        \"max\": 52,\n        \"num_unique_values\": 52,\n        \"samples\": [\n          35,\n          25,\n          7\n        ],\n        \"semantic_type\": \"\",\n        \"description\": \"\"\n      }\n    },\n    {\n      \"column\": \"total_rooms\",\n      \"properties\": {\n        \"dtype\": \"number\",\n        \"std\": 2181,\n        \"min\": 2,\n        \"max\": 39320,\n        \"num_unique_values\": 5926,\n        \"samples\": [\n          699,\n          1544,\n          3966\n        ],\n        \"semantic_type\": \"\",\n        \"description\": \"\"\n      }\n    },\n    {\n      \"column\": \"total_bedrooms\",\n      \"properties\": {\n        \"dtype\": \"number\",\n        \"std\": 421.3850700740323,\n        \"min\": 1.0,\n        \"max\": 6445.0,\n        \"num_unique_values\": 1923,\n        \"samples\": [\n          1538.0,\n          1298.0,\n          1578.0\n        ],\n        \"semantic_type\": \"\",\n        \"description\": \"\"\n      }\n    },\n    {\n      \"column\": \"population\",\n      \"properties\": {\n        \"dtype\": \"number\",\n        \"std\": 1132,\n        \"min\": 3,\n        \"max\": 35682,\n        \"num_unique_values\": 3888,\n        \"samples\": [\n          4169,\n          636,\n          3367\n        ],\n        \"semantic_type\": \"\",\n        \"description\": \"\"\n      }\n    },\n    {\n      \"column\": \"households\",\n      \"properties\": {\n        \"dtype\": \"number\",\n        \"std\": 382,\n        \"min\": 1,\n        \"max\": 6082,\n        \"num_unique_values\": 1815,\n        \"samples\": [\n          21,\n          750,\n          1447\n        ],\n        \"semantic_type\": \"\",\n        \"description\": \"\"\n      }\n    },\n    {\n      \"column\": \"median_income\",\n      \"properties\": {\n        \"dtype\": \"number\",\n        \"std\": 1.8998217179452688,\n        \"min\": 0.4999,\n        \"max\": 15.0001,\n        \"num_unique_values\": 12928,\n        \"samples\": [\n          5.0286,\n          2.0433,\n          6.1228\n        ],\n        \"semantic_type\": \"\",\n        \"description\": \"\"\n      }\n    },\n    {\n      \"column\": \"ocean_proximity\",\n      \"properties\": {\n        \"dtype\": \"category\",\n        \"num_unique_values\": 5,\n        \"samples\": [\n          \"<1H OCEAN\",\n          \"ISLAND\",\n          \"INLAND\"\n        ],\n        \"semantic_type\": \"\",\n        \"description\": \"\"\n      }\n    },\n    {\n      \"column\": \"median_house_value\",\n      \"properties\": {\n        \"dtype\": \"number\",\n        \"std\": 115395,\n        \"min\": 14999,\n        \"max\": 500001,\n        \"num_unique_values\": 3842,\n        \"samples\": [\n          194300,\n          379000,\n          230100\n        ],\n        \"semantic_type\": \"\",\n        \"description\": \"\"\n      }\n    }\n  ]\n}"
            }
          },
          "metadata": {},
          "execution_count": 7
        }
      ],
      "source": [
        "import pandas as pd\n",
        "df=pd.read_csv('/content/California House Price.csv')\n",
        "df"
      ]
    },
    {
      "cell_type": "markdown",
      "metadata": {
        "id": "iLv8hMo4F7UX"
      },
      "source": [
        "# Preprocessing the data"
      ]
    },
    {
      "cell_type": "code",
      "execution_count": 8,
      "metadata": {
        "colab": {
          "base_uri": "https://localhost:8080/"
        },
        "collapsed": true,
        "id": "yFBSYscH42Nt",
        "outputId": "67f7ee52-2ff6-4fbc-e1b7-b57f96ad6935"
      },
      "outputs": [
        {
          "output_type": "stream",
          "name": "stdout",
          "text": [
            "<class 'pandas.core.frame.DataFrame'>\n",
            "RangeIndex: 20640 entries, 0 to 20639\n",
            "Data columns (total 10 columns):\n",
            " #   Column              Non-Null Count  Dtype  \n",
            "---  ------              --------------  -----  \n",
            " 0   longitude           20640 non-null  float64\n",
            " 1   latitude            20640 non-null  float64\n",
            " 2   housing_median_age  20640 non-null  int64  \n",
            " 3   total_rooms         20640 non-null  int64  \n",
            " 4   total_bedrooms      20433 non-null  float64\n",
            " 5   population          20640 non-null  int64  \n",
            " 6   households          20640 non-null  int64  \n",
            " 7   median_income       20640 non-null  float64\n",
            " 8   ocean_proximity     20640 non-null  object \n",
            " 9   median_house_value  20640 non-null  int64  \n",
            "dtypes: float64(4), int64(5), object(1)\n",
            "memory usage: 1.6+ MB\n"
          ]
        }
      ],
      "source": [
        "df.info()  # Checking the info"
      ]
    },
    {
      "cell_type": "code",
      "execution_count": 9,
      "metadata": {
        "colab": {
          "base_uri": "https://localhost:8080/",
          "height": 397
        },
        "collapsed": true,
        "id": "f87ae_kZ5LD-",
        "outputId": "5be194ed-3b0b-41e8-ae67-fd30b0c4ff1b"
      },
      "outputs": [
        {
          "output_type": "execute_result",
          "data": {
            "text/plain": [
              "longitude               0\n",
              "latitude                0\n",
              "housing_median_age      0\n",
              "total_rooms             0\n",
              "total_bedrooms        207\n",
              "population              0\n",
              "households              0\n",
              "median_income           0\n",
              "ocean_proximity         0\n",
              "median_house_value      0\n",
              "dtype: int64"
            ],
            "text/html": [
              "<div>\n",
              "<style scoped>\n",
              "    .dataframe tbody tr th:only-of-type {\n",
              "        vertical-align: middle;\n",
              "    }\n",
              "\n",
              "    .dataframe tbody tr th {\n",
              "        vertical-align: top;\n",
              "    }\n",
              "\n",
              "    .dataframe thead th {\n",
              "        text-align: right;\n",
              "    }\n",
              "</style>\n",
              "<table border=\"1\" class=\"dataframe\">\n",
              "  <thead>\n",
              "    <tr style=\"text-align: right;\">\n",
              "      <th></th>\n",
              "      <th>0</th>\n",
              "    </tr>\n",
              "  </thead>\n",
              "  <tbody>\n",
              "    <tr>\n",
              "      <th>longitude</th>\n",
              "      <td>0</td>\n",
              "    </tr>\n",
              "    <tr>\n",
              "      <th>latitude</th>\n",
              "      <td>0</td>\n",
              "    </tr>\n",
              "    <tr>\n",
              "      <th>housing_median_age</th>\n",
              "      <td>0</td>\n",
              "    </tr>\n",
              "    <tr>\n",
              "      <th>total_rooms</th>\n",
              "      <td>0</td>\n",
              "    </tr>\n",
              "    <tr>\n",
              "      <th>total_bedrooms</th>\n",
              "      <td>207</td>\n",
              "    </tr>\n",
              "    <tr>\n",
              "      <th>population</th>\n",
              "      <td>0</td>\n",
              "    </tr>\n",
              "    <tr>\n",
              "      <th>households</th>\n",
              "      <td>0</td>\n",
              "    </tr>\n",
              "    <tr>\n",
              "      <th>median_income</th>\n",
              "      <td>0</td>\n",
              "    </tr>\n",
              "    <tr>\n",
              "      <th>ocean_proximity</th>\n",
              "      <td>0</td>\n",
              "    </tr>\n",
              "    <tr>\n",
              "      <th>median_house_value</th>\n",
              "      <td>0</td>\n",
              "    </tr>\n",
              "  </tbody>\n",
              "</table>\n",
              "</div><br><label><b>dtype:</b> int64</label>"
            ]
          },
          "metadata": {},
          "execution_count": 9
        }
      ],
      "source": [
        "df.isnull().sum()  # Checking the null values"
      ]
    },
    {
      "cell_type": "code",
      "execution_count": 10,
      "metadata": {
        "id": "76DG8MOd5t0n"
      },
      "outputs": [],
      "source": [
        "df.dropna(subset=['total_bedrooms'], inplace=True)  # Dropping Null values"
      ]
    },
    {
      "cell_type": "code",
      "execution_count": 11,
      "metadata": {
        "colab": {
          "base_uri": "https://localhost:8080/",
          "height": 397
        },
        "collapsed": true,
        "id": "BXkmfNFBHRoG",
        "outputId": "5b35acec-3192-45ad-8df8-fe1c1c050a98"
      },
      "outputs": [
        {
          "output_type": "execute_result",
          "data": {
            "text/plain": [
              "longitude             0\n",
              "latitude              0\n",
              "housing_median_age    0\n",
              "total_rooms           0\n",
              "total_bedrooms        0\n",
              "population            0\n",
              "households            0\n",
              "median_income         0\n",
              "ocean_proximity       0\n",
              "median_house_value    0\n",
              "dtype: int64"
            ],
            "text/html": [
              "<div>\n",
              "<style scoped>\n",
              "    .dataframe tbody tr th:only-of-type {\n",
              "        vertical-align: middle;\n",
              "    }\n",
              "\n",
              "    .dataframe tbody tr th {\n",
              "        vertical-align: top;\n",
              "    }\n",
              "\n",
              "    .dataframe thead th {\n",
              "        text-align: right;\n",
              "    }\n",
              "</style>\n",
              "<table border=\"1\" class=\"dataframe\">\n",
              "  <thead>\n",
              "    <tr style=\"text-align: right;\">\n",
              "      <th></th>\n",
              "      <th>0</th>\n",
              "    </tr>\n",
              "  </thead>\n",
              "  <tbody>\n",
              "    <tr>\n",
              "      <th>longitude</th>\n",
              "      <td>0</td>\n",
              "    </tr>\n",
              "    <tr>\n",
              "      <th>latitude</th>\n",
              "      <td>0</td>\n",
              "    </tr>\n",
              "    <tr>\n",
              "      <th>housing_median_age</th>\n",
              "      <td>0</td>\n",
              "    </tr>\n",
              "    <tr>\n",
              "      <th>total_rooms</th>\n",
              "      <td>0</td>\n",
              "    </tr>\n",
              "    <tr>\n",
              "      <th>total_bedrooms</th>\n",
              "      <td>0</td>\n",
              "    </tr>\n",
              "    <tr>\n",
              "      <th>population</th>\n",
              "      <td>0</td>\n",
              "    </tr>\n",
              "    <tr>\n",
              "      <th>households</th>\n",
              "      <td>0</td>\n",
              "    </tr>\n",
              "    <tr>\n",
              "      <th>median_income</th>\n",
              "      <td>0</td>\n",
              "    </tr>\n",
              "    <tr>\n",
              "      <th>ocean_proximity</th>\n",
              "      <td>0</td>\n",
              "    </tr>\n",
              "    <tr>\n",
              "      <th>median_house_value</th>\n",
              "      <td>0</td>\n",
              "    </tr>\n",
              "  </tbody>\n",
              "</table>\n",
              "</div><br><label><b>dtype:</b> int64</label>"
            ]
          },
          "metadata": {},
          "execution_count": 11
        }
      ],
      "source": [
        "df.isnull().sum()"
      ]
    },
    {
      "cell_type": "code",
      "execution_count": 12,
      "metadata": {
        "colab": {
          "base_uri": "https://localhost:8080/"
        },
        "id": "ilSxqj3a7wTf",
        "outputId": "09146096-6fbc-4e0a-a993-e8c69ae60e6f"
      },
      "outputs": [
        {
          "output_type": "stream",
          "name": "stdout",
          "text": [
            "Categorical: ['ocean_proximity']\n",
            "Numerical: ['longitude', 'latitude', 'housing_median_age', 'total_rooms', 'total_bedrooms', 'population', 'households', 'median_income', 'median_house_value']\n"
          ]
        }
      ],
      "source": [
        "# Separating categorical and numerical Values\n",
        "cat=[]\n",
        "num=[]\n",
        "for i in df.columns:\n",
        "  if df[i].dtype=='object':\n",
        "    cat.append(i)\n",
        "  else:\n",
        "    num.append(i)\n",
        "print('Categorical:', cat)\n",
        "print('Numerical:', num)"
      ]
    },
    {
      "cell_type": "code",
      "execution_count": 13,
      "metadata": {
        "colab": {
          "base_uri": "https://localhost:8080/"
        },
        "collapsed": true,
        "id": "xxPlc3w_8JYb",
        "outputId": "cc5b8795-6dac-4778-878c-1f3826249bcd"
      },
      "outputs": [
        {
          "output_type": "stream",
          "name": "stdout",
          "text": [
            "longitude\n",
            "Unique Values: [-122.23 -122.22 -122.24 -122.25 -122.26 -122.27 -122.28 -122.29 -122.3\n",
            " -122.21 -122.2  -122.19 -122.18 -122.13 -122.16 -122.17 -122.15 -122.14\n",
            " -122.12 -122.33 -122.34 -122.06 -122.07 -122.08 -122.09 -122.1  -122.11\n",
            " -122.03 -121.97 -122.02 -122.04 -122.05 -121.99 -122.01 -121.96 -121.98\n",
            " -122.   -121.93 -121.94 -121.95 -121.92 -121.89 -121.91 -121.9  -121.88\n",
            " -121.87 -121.85 -121.86 -121.84 -121.82 -121.77 -121.62 -121.61 -121.72\n",
            " -121.73 -121.75 -121.8  -121.76 -121.78 -121.79 -119.78 -119.93 -120.\n",
            " -120.56 -120.59 -120.55 -120.25 -120.79 -120.8  -120.65 -120.76 -120.88\n",
            " -120.69 -120.93 -120.97 -120.87 -120.98 -120.72 -120.77 -120.66 -120.62\n",
            " -120.71 -121.83 -121.81 -121.74 -121.68 -121.54 -121.51 -121.59 -121.58\n",
            " -121.6  -121.63 -121.57 -121.65 -121.64 -121.71 -121.66 -121.56 -121.5\n",
            " -121.41 -121.39 -121.24 -121.19 -121.36 -121.46 -121.49 -121.44 -121.47\n",
            " -121.53 -121.52 -121.55 -121.67 -121.69 -121.7  -120.46 -120.54 -120.67\n",
            " -120.9  -120.91 -120.57 -120.43 -120.42 -120.41 -120.36 -120.34 -120.33\n",
            " -120.37 -120.27 -120.19 -122.51 -122.32 -122.36 -122.31 -122.39 -122.37\n",
            " -122.41 -122.35 -122.38 -122.42 -124.17 -124.3  -124.23 -124.21 -124.19\n",
            " -124.22 -124.16 -124.14 -124.15 -123.91 -123.83 -123.92 -119.94 -119.95\n",
            " -119.97 -119.98 -119.96 -119.99 -120.01 -120.02 -119.92 -120.04 -120.03\n",
            " -120.13 -120.16 -120.06 -120.1  -121.04 -120.92 -120.84 -120.81 -120.5\n",
            " -120.3  -121.09 -121.08 -121.07 -121.06 -121.   -121.01 -120.99 -121.02\n",
            " -120.95 -120.96 -120.86 -120.83 -120.78 -120.7  -120.58 -120.6  -120.63\n",
            " -120.44 -120.32 -120.08 -120.85 -119.81 -119.79 -119.8  -119.77 -119.82\n",
            " -119.83 -119.74 -119.76 -119.75 -119.69 -119.67 -119.73 -119.72 -119.71\n",
            " -119.63 -119.65 -119.68 -119.89 -119.87 -119.85 -119.84 -119.7  -119.86\n",
            " -119.9  -120.21 -120.05 -120.07 -119.91 -119.88 -119.64 -119.53 -119.58\n",
            " -119.59 -119.5  -119.57 -119.56 -119.55 -119.54 -119.52 -119.47 -119.41\n",
            " -119.43 -119.39 -119.4  -119.49 -119.61 -119.48 -119.46 -119.33 -119.21\n",
            " -118.94 -119.34 -119.28 -119.32 -118.91 -119.24 -119.25 -119.12 -119.31\n",
            " -119.44 -119.45 -119.6  -119.62 -120.09 -120.38 -120.35 -120.31 -120.18\n",
            " -120.22 -120.51 -120.39 -120.45 -122.74 -122.53 -124.18 -124.11 -124.13\n",
            " -124.05 -124.02 -124.08 -124.09 -124.07 -124.1  -124.06 -123.74 -123.76\n",
            " -123.85 -123.72 -123.63 -123.66 -123.52 -124.01 -123.98 -123.88 -124.27\n",
            " -123.96 -123.73 -124.03 -124.26 -124.35 -124.25 -124.   -123.84 -123.68\n",
            " -123.82 -123.75 -123.78 -115.52 -115.51 -115.46 -115.6  -115.73 -115.62\n",
            " -115.41 -115.59 -115.53 -115.54 -115.55 -115.56 -115.32 -115.39 -115.4\n",
            " -115.37 -115.38 -115.57 -115.49 -115.64 -115.69 -115.72 -115.58 -115.48\n",
            " -115.5  -116.05 -116.   -115.88 -115.9  -116.01 -115.99 -115.94 -115.98\n",
            " -115.91 -115.96 -115.95 -115.8  -114.73 -114.98 -114.65 -114.55 -114.63\n",
            " -114.66 -118.18 -118.43 -118.6  -118.45 -118.42 -118.4  -118.39 -118.3\n",
            " -117.9  -118.31 -118.05 -117.69 -117.02 -116.22 -119.02 -119.03 -119.05\n",
            " -119.04 -119.08 -119.07 -119.09 -119.01 -118.99 -119.   -118.97 -118.98\n",
            " -118.96 -118.95 -118.92 -118.9  -118.87 -118.88 -118.93 -119.06 -119.1\n",
            " -119.13 -119.15 -119.16 -119.42 -119.11 -119.19 -119.2  -119.18 -119.27\n",
            " -119.26 -119.38 -119.36 -119.35 -119.14 -119.29 -119.22 -119.23 -118.06\n",
            " -118.44 -118.47 -118.5  -118.59 -118.23 -118.33 -118.41 -118.48 -118.61\n",
            " -117.73 -117.66 -117.67 -117.68 -117.7  -117.64 -117.76 -117.81 -117.87\n",
            " -117.84 -117.74 -118.   -117.82 -117.79 -118.01 -117.98 -117.95 -117.99\n",
            " -118.27 -118.34 -117.65 -118.15 -118.17 -118.19 -118.16 -118.51 -118.66\n",
            " -118.46 -118.83 -118.85 -118.82 -119.66 -120.14 -120.12 -122.89 -122.9\n",
            " -122.91 -122.88 -123.07 -122.95 -122.92 -122.94 -122.99 -122.7  -122.87\n",
            " -122.86 -122.83 -122.79 -122.8  -122.78 -122.69 -122.73 -122.66 -122.65\n",
            " -122.52 -122.68 -122.63 -122.62 -122.61 -122.6  -122.64 -122.75 -122.71\n",
            " -122.85 -122.84 -122.77 -122.48 -122.59 -122.5  -122.55 -121.11 -121.03\n",
            " -120.64 -120.49 -120.2  -118.28 -118.29 -118.35 -118.32 -118.36 -118.38\n",
            " -118.49 -118.52 -118.54 -118.57 -118.53 -118.55 -118.63 -118.62 -118.64\n",
            " -118.56 -118.58 -118.37 -118.65 -118.22 -118.2  -118.21 -118.24 -118.25\n",
            " -118.26 -117.71 -117.78 -117.8  -117.83 -117.93 -117.91 -117.89 -117.88\n",
            " -117.85 -117.86 -117.77 -117.75 -117.72 -117.92 -117.94 -117.97 -117.96\n",
            " -118.02 -118.03 -118.04 -118.07 -118.08 -118.09 -118.1  -118.11 -118.12\n",
            " -118.13 -118.14 -118.69 -118.67 -118.68 -118.76 -118.75 -118.72 -118.78\n",
            " -118.8  -118.84 -118.79 -118.74 -118.86 -118.7  -119.51 -120.26 -120.29\n",
            " -120.11 -122.49 -122.54 -122.58 -122.57 -122.56 -122.44 -122.45 -122.47\n",
            " -122.46 -122.93 -122.96 -122.81 -120.15 -123.15 -123.24 -123.23 -123.47\n",
            " -123.71 -123.58 -123.5  -123.64 -123.79 -123.8  -123.34 -123.4  -123.32\n",
            " -123.38 -123.35 -123.37 -123.36 -123.1  -123.11 -123.18 -123.22 -123.21\n",
            " -123.19 -123.2  -123.81 -123.7  -123.53 -123.69 -123.59 -123.54 -123.39\n",
            " -123.17 -123.16 -120.68 -120.75 -120.74 -120.73 -120.94 -120.89 -120.61\n",
            " -120.48 -120.47 -120.24 -120.82 -121.16 -121.18 -119.3  -121.43 -121.45\n",
            " -121.42 -121.48 -121.31 -121.32 -121.33 -121.4  -121.23 -121.25 -121.26\n",
            " -121.12 -121.13 -121.2  -122.4  -121.1  -121.05 -121.22 -121.14 -121.21\n",
            " -121.15 -120.17 -120.23 -117.62 -117.6  -117.63 -117.55 -117.59 -117.58\n",
            " -117.49 -117.53 -117.61 -121.17 -121.27 -121.28 -121.3  -121.29 -120.53\n",
            " -117.35 -117.36 -117.37 -117.38 -117.39 -117.41 -117.4  -117.44 -117.43\n",
            " -117.42 -117.45 -117.5  -117.48 -117.47 -117.51 -117.52 -117.56 -117.57\n",
            " -117.46 -117.54 -117.33 -117.34 -117.26 -117.3  -117.28 -117.32 -117.31\n",
            " -117.29 -117.24 -117.23 -117.25 -117.21 -117.14 -117.27 -117.22 -117.16\n",
            " -117.13 -117.19 -117.17 -117.2  -117.07 -117.11 -117.08 -117.18 -117.06\n",
            " -117.09 -117.15 -117.12 -117.05 -116.96 -117.1  -116.99 -116.91 -116.89\n",
            " -116.95 -116.9  -116.92 -116.93 -116.94 -116.97 -116.98 -117.01 -117.\n",
            " -116.87 -116.88 -116.86 -117.04 -117.03 -116.79 -116.77 -116.81 -116.75\n",
            " -116.8  -116.71 -116.68 -116.74 -116.72 -116.48 -116.57 -116.76 -116.42\n",
            " -116.6  -116.69 -116.39 -116.51 -116.61 -116.44 -116.36 -116.52 -116.53\n",
            " -116.5  -116.47 -116.63 -116.54 -116.55 -116.49 -116.56 -116.46 -116.43\n",
            " -116.45 -116.4  -116.38 -116.33 -116.31 -116.37 -116.41 -116.29 -116.3\n",
            " -116.26 -116.25 -116.24 -116.21 -116.23 -116.2  -116.15 -116.11 -116.17\n",
            " -116.12 -115.84 -116.16 -116.19 -116.18 -116.08 -115.22 -114.67 -114.49\n",
            " -114.68 -114.56 -114.57 -114.59 -114.61 -114.6  -114.58 -114.62 -121.38\n",
            " -121.37 -121.35 -121.34 -115.93 -115.75 -116.14 -116.32 -116.27 -116.35\n",
            " -116.62 -116.73 -116.06 -116.09 -116.02 -115.85 -114.94 -114.47 -114.31\n",
            " -114.64 -116.85 -116.83 -116.82 -116.84 -116.78 -116.58 -116.66 -116.67\n",
            " -116.34 -116.28 -122.43 -120.52 -120.4  -122.76 -123.26 -123.41 -123.08\n",
            " -122.67 -122.72 -122.82 -123.04 -123.02 -122.98 -123.01 -123.   -122.97\n",
            " -123.03 -123.49 -123.25 -123.48 -123.28 -123.13 -123.12 -123.43 -119.37\n",
            " -118.73 -120.28 -119.17 -118.89 -118.81 -118.77 -118.71]\n",
            "Number of unique: 844\n",
            "\n",
            "\n",
            "latitude\n",
            "Unique Values: [37.88 37.86 37.85 37.84 37.83 37.82 37.81 37.8  37.79 37.77 37.78 37.76\n",
            " 37.75 37.74 37.73 37.9  37.89 37.87 37.72 37.71 37.7  37.69 37.68 37.64\n",
            " 37.63 37.66 37.65 37.67 37.61 37.62 37.6  37.59 37.58 37.57 37.49 37.52\n",
            " 37.56 37.55 37.54 37.53 37.51 37.48 37.47 37.5  38.69 38.72 38.52 38.48\n",
            " 38.45 38.46 38.43 38.55 38.54 38.51 38.5  38.47 38.44 38.42 38.37 38.34\n",
            " 38.32 38.26 38.38 38.4  38.39 38.36 38.31 39.76 39.78 39.77 39.74 39.75\n",
            " 39.73 39.71 39.72 39.7  39.82 39.79 39.68 39.64 39.59 39.88 40.06 39.97\n",
            " 39.86 39.83 39.8  39.66 39.69 39.61 39.65 39.55 39.52 39.53 39.6  39.54\n",
            " 39.5  39.49 39.51 39.48 39.47 39.45 39.44 39.43 39.4  39.39 39.33 39.37\n",
            " 39.35 39.34 39.32 39.36 39.38 39.42 39.41 38.15 38.12 38.09 38.07 37.97\n",
            " 38.24 38.2  38.16 38.11 38.28 38.19 38.25 38.41 38.33 38.35 38.21 38.23\n",
            " 38.29 39.03 38.99 39.   39.15 39.22 39.25 39.1  39.13 39.31 39.3  39.21\n",
            " 38.03 38.04 38.   37.98 37.99 37.93 37.94 37.95 37.96 37.91 38.01 38.02\n",
            " 38.05 37.92 38.06 41.8  41.75 41.77 41.78 41.73 41.76 41.74 41.95 41.92\n",
            " 41.84 41.81 41.68 41.88 41.54 38.96 38.95 38.94 38.93 38.92 38.91 38.89\n",
            " 38.9  38.88 38.87 38.84 38.76 38.86 39.06 39.04 39.01 38.81 38.83 38.85\n",
            " 38.68 38.67 38.66 38.7  38.58 38.73 38.65 38.62 38.79 38.77 38.71 38.75\n",
            " 38.74 38.6  38.61 38.57 38.53 38.8  38.63 36.73 36.74 36.72 36.75 36.71\n",
            " 36.7  36.68 36.69 36.65 36.64 36.62 36.63 36.59 36.77 36.76 36.8  36.79\n",
            " 36.81 36.78 36.66 36.83 36.85 36.82 36.84 36.86 36.91 36.87 36.94 36.88\n",
            " 36.89 37.1  37.02 37.   37.25 37.13 37.09 37.12 37.11 37.06 36.61 36.6\n",
            " 36.58 36.57 36.56 36.55 36.52 36.51 36.53 36.44 36.46 36.43 36.54 36.45\n",
            " 36.34 36.16 36.21 36.19 36.29 36.18 36.14 36.15 36.13 36.49 36.97 40.8\n",
            " 40.79 40.78 40.77 40.75 40.76 40.81 40.85 40.86 40.87 40.88 40.9  40.66\n",
            " 40.91 41.03 41.32 41.09 41.11 41.3  41.01 41.36 41.13 41.06 41.04 40.97\n",
            " 40.89 40.93 41.02 40.99 40.95 40.94 40.92 40.72 40.73 40.74 40.67 40.69\n",
            " 40.62 40.6  40.59 40.55 40.57 40.48 40.58 40.5  40.44 40.47 40.45 40.54\n",
            " 40.28 40.22 40.24 40.16 40.12 40.11 40.05 33.12 33.13 33.19 33.24 33.2\n",
            " 33.09 33.04 32.99 32.96 32.98 32.97 32.82 32.76 32.86 32.81 32.85 32.84\n",
            " 32.83 32.87 32.8  32.79 32.75 32.77 32.73 32.78 32.69 32.7  32.67 32.68\n",
            " 33.33 32.93 32.74 33.41 33.4  33.38 33.32 33.36 33.34 33.3  33.28 33.26\n",
            " 33.43 33.07 33.35 37.35 37.4  37.39 37.37 37.36 37.17 36.95 36.4  36.\n",
            " 35.42 35.45 35.44 35.43 35.41 35.4  35.39 35.38 35.37 35.34 35.36 35.35\n",
            " 35.32 35.33 35.3  35.31 35.27 35.22 35.24 35.28 34.82 34.83 34.81 34.95\n",
            " 35.06 35.07 35.19 35.17 35.16 35.14 35.15 35.13 35.5  35.52 35.49 35.51\n",
            " 35.6  35.55 35.58 35.59 35.62 35.65 35.76 35.64 35.68 35.67 35.78 35.77\n",
            " 35.75 35.79 35.74 35.47 35.72 35.7  35.48 35.63 35.61 35.73 35.54 35.05\n",
            " 35.03 35.21 35.12 35.08 35.1  34.92 34.86 34.99 35.   34.87 35.04 35.2\n",
            " 35.26 35.23 36.41 36.37 36.38 36.32 36.31 36.3  36.33 36.27 36.28 36.35\n",
            " 36.36 36.25 36.11 36.09 36.1  36.08 36.2  35.99 36.02 36.04 36.01 35.87\n",
            " 35.91 39.23 39.18 39.17 39.14 39.12 39.11 39.09 39.08 39.02 39.07 39.05\n",
            " 38.98 38.97 38.82 38.78 41.07 41.12 40.98 40.63 40.65 40.51 40.35 40.43\n",
            " 40.42 40.41 40.36 40.37 40.38 40.29 40.31 40.17 40.26 39.92 34.27 34.26\n",
            " 34.25 34.24 34.22 34.21 34.28 34.29 34.32 34.33 34.31 34.3  34.23 34.2\n",
            " 34.19 34.18 34.17 34.16 34.15 34.14 34.13 34.12 34.11 34.1  34.09 34.08\n",
            " 34.07 34.06 34.05 34.04 34.03 34.02 34.01 34.   33.99 33.98 33.97 33.94\n",
            " 33.95 33.96 33.93 33.92 33.91 33.9  33.88 33.89 33.87 33.86 33.85 33.84\n",
            " 33.83 33.82 33.81 33.8  33.79 33.78 33.77 33.76 33.75 33.74 33.73 33.72\n",
            " 33.69 33.71 33.67 33.68 34.71 34.63 34.58 34.74 34.68 34.69 34.65 34.7\n",
            " 34.67 34.72 34.76 34.77 34.66 34.62 34.73 34.59 34.57 34.53 34.61 34.6\n",
            " 34.56 34.64 34.55 34.51 34.43 34.41 34.52 34.5  34.46 34.44 34.49 34.48\n",
            " 34.45 34.4  34.47 34.42 34.39 34.38 34.37 34.36 37.34 37.32 37.29 37.21\n",
            " 37.38 37.31 37.33 37.23 37.19 37.27 37.04 36.99 36.93 36.98 36.96 36.9\n",
            " 36.92 38.1  38.14 38.13 38.08 38.18 37.43 37.46 39.81 39.67 39.46 39.26\n",
            " 39.28 39.2  39.16 37.44 37.42 37.41 37.2  37.26 37.16 37.3  37.28 37.18\n",
            " 37.01 37.08 37.07 37.05 37.03 41.31 41.35 41.82 41.79 41.4  41.61 36.67\n",
            " 36.5  36.47 36.48 36.42 36.24 35.95 35.94 36.06 38.3  38.27 38.22 38.17\n",
            " 38.49 38.56 38.59 39.24 39.19 39.27 39.29 33.61 33.62 33.6  33.63 33.59\n",
            " 33.58 33.57 33.65 33.64 33.54 33.55 33.56 33.51 33.52 33.66 33.53 33.42\n",
            " 33.47 33.45 33.46 33.44 33.48 33.49 33.5  33.7  39.93 39.9  39.95 39.96\n",
            " 40.02 40.08 40.14 40.01 40.13 40.27 40.23 40.19 40.3  40.25 38.64 34.54\n",
            " 34.34 34.91 34.9  34.89 34.35 34.85 34.84 34.98 34.75 34.88 34.94 34.96\n",
            " 32.72 32.71 32.66 32.88 32.92 32.89 32.91 32.9  32.94 32.95 32.59 32.58\n",
            " 32.57 32.56 32.55 32.54 32.63 32.65 32.64 32.62 32.61 32.6  33.01 33.\n",
            " 33.02 33.03 33.05 33.06 33.08 33.17 33.16 33.15 33.1  33.11 33.18 33.14\n",
            " 33.21 33.23 33.22 33.25 33.31 33.29 33.39 33.37 33.27 35.69 35.56 35.29\n",
            " 35.25 35.11 35.18 35.02 35.46 37.45 37.24 34.93 34.97 37.22 37.15 37.14\n",
            " 40.56 40.61 40.64 40.52 40.53 40.49 40.71 40.68 40.46 40.4  40.39 40.82\n",
            " 39.56 39.63 41.86 41.66 41.6  41.7  41.69 41.72 41.63 41.53 41.48 41.46\n",
            " 41.26 41.43 41.41 41.38 41.28 41.21 41.23 41.2  41.5  40.09 40.2  40.34\n",
            " 40.32 40.18 40.15 40.07 39.94 39.91 41.15 36.39 36.22 36.23 36.12 35.82\n",
            " 35.9  36.05 36.07 35.97 35.96 35.86 35.85 35.89 35.88]\n",
            "Number of unique: 861\n",
            "\n",
            "\n",
            "housing_median_age\n",
            "Unique Values: [41 21 52 42 50 40 49 48 51 43  2 46 26 20 17 36 19 23 38 35 10 16 27 39\n",
            " 31 29 22 37 28 34 32 47 44 30 18 45 33 24 15 14 13 25  5 12  6  8  9  7\n",
            "  3  4 11  1]\n",
            "Number of unique: 52\n",
            "\n",
            "\n",
            "total_rooms\n",
            "Unique Values: [  880  7099  1467 ...  4598   272 10035]\n",
            "Number of unique: 5911\n",
            "\n",
            "\n",
            "total_bedrooms\n",
            "Unique Values: [ 129. 1106.  190. ... 3008. 1857. 1052.]\n",
            "Number of unique: 1923\n",
            "\n",
            "\n",
            "population\n",
            "Unique Values: [ 322 2401  496 ... 3060 2707 6912]\n",
            "Number of unique: 3879\n",
            "\n",
            "\n",
            "households\n",
            "Unique Values: [ 126 1138  177 ... 1767 1832 1818]\n",
            "Number of unique: 1809\n",
            "\n",
            "\n",
            "median_income\n",
            "Unique Values: [8.3252 8.3014 7.2574 ... 2.3598 2.3661 2.0943]\n",
            "Number of unique: 12825\n",
            "\n",
            "\n",
            "ocean_proximity\n",
            "Unique Values: ['NEAR BAY' '<1H OCEAN' 'INLAND' 'NEAR OCEAN' 'ISLAND']\n",
            "Number of unique: 5\n",
            "\n",
            "\n",
            "median_house_value\n",
            "Unique Values: [452600 358500 352100 ... 425800 200700  47000]\n",
            "Number of unique: 3833\n",
            "\n",
            "\n"
          ]
        }
      ],
      "source": [
        "# Treating Categorical Values\n",
        "for i in df:\n",
        "  print(i)\n",
        "  print('Unique Values:', df[i].unique())     # Finding unique values\n",
        "  print('Number of unique:', df[i].nunique())\n",
        "  print()\n",
        "  print()"
      ]
    },
    {
      "cell_type": "code",
      "execution_count": 14,
      "metadata": {
        "colab": {
          "base_uri": "https://localhost:8080/",
          "height": 450
        },
        "collapsed": true,
        "id": "QRGopQaWNkSS",
        "outputId": "fdecc167-d534-479f-fccd-6582b65b7acd"
      },
      "outputs": [
        {
          "output_type": "display_data",
          "data": {
            "text/plain": [
              "<Figure size 640x480 with 1 Axes>"
            ],
            "image/png": "[encoded data removed]"
          },
          "metadata": {}
        }
      ],
      "source": [
        "import matplotlib.pyplot as plt\n",
        "import seaborn as sns\n",
        "def cat_analysis(col):\n",
        "  df[col].value_counts()\n",
        "  sns.countplot(x=col,data=df)\n",
        "  plt.show()\n",
        "\n",
        "for i in cat:\n",
        "  cat_analysis(i)"
      ]
    },
    {
      "cell_type": "code",
      "execution_count": 15,
      "metadata": {
        "colab": {
          "base_uri": "https://localhost:8080/",
          "height": 1000
        },
        "collapsed": true,
        "id": "JW6UN--Z89d5",
        "outputId": "be171358-84df-4a44-eaf6-f7bb5a19f5db"
      },
      "outputs": [
        {
          "output_type": "stream",
          "name": "stdout",
          "text": [
            "Percentage of outliers in longitude 0.0\n"
          ]
        },
        {
          "output_type": "display_data",
          "data": {
            "text/plain": [
              "<Figure size 1200x400 with 2 Axes>"
            ],
            "image/png": "[encoded data removed]"
          },
          "metadata": {}
        },
        {
          "output_type": "stream",
          "name": "stdout",
          "text": [
            "None\n",
            "+++====+++\n",
            "Percentage of outliers in latitude 0.0\n"
          ]
        },
        {
          "output_type": "display_data",
          "data": {
            "text/plain": [
              "<Figure size 1200x400 with 2 Axes>"
            ],
            "image/png": "[encoded data removed]"
          },
          "metadata": {}
        },
        {
          "output_type": "stream",
          "name": "stdout",
          "text": [
            "None\n",
            "+++====+++\n",
            "Percentage of outliers in housing_median_age 0.0\n"
          ]
        },
        {
          "output_type": "display_data",
          "data": {
            "text/plain": [
              "<Figure size 1200x400 with 2 Axes>"
            ],
            "image/png": "[encoded data removed]"
          },
          "metadata": {}
        },
        {
          "output_type": "stream",
          "name": "stdout",
          "text": [
            "None\n",
            "+++====+++\n",
            "Percentage of outliers in total_rooms 6.313316693583908\n"
          ]
        },
        {
          "output_type": "display_data",
          "data": {
            "text/plain": [
              "<Figure size 1200x400 with 2 Axes>"
            ],
            "image/png": "[encoded data removed]"
          },
          "metadata": {}
        },
        {
          "output_type": "stream",
          "name": "stdout",
          "text": [
            "None\n",
            "+++====+++\n",
            "Percentage of outliers in total_bedrooms 6.22032985856213\n"
          ]
        },
        {
          "output_type": "display_data",
          "data": {
            "text/plain": [
              "<Figure size 1200x400 with 2 Axes>"
            ],
            "image/png": "[encoded data removed]"
          },
          "metadata": {}
        },
        {
          "output_type": "stream",
          "name": "stdout",
          "text": [
            "None\n",
            "+++====+++\n",
            "Percentage of outliers in population 5.823912298732442\n"
          ]
        },
        {
          "output_type": "display_data",
          "data": {
            "text/plain": [
              "<Figure size 1200x400 with 2 Axes>"
            ],
            "image/png": "[encoded data removed]"
          },
          "metadata": {}
        },
        {
          "output_type": "stream",
          "name": "stdout",
          "text": [
            "None\n",
            "+++====+++\n",
            "Percentage of outliers in households 5.921793177702736\n"
          ]
        },
        {
          "output_type": "display_data",
          "data": {
            "text/plain": [
              "<Figure size 1200x400 with 2 Axes>"
            ],
            "image/png": "[encoded data removed]"
          },
          "metadata": {}
        },
        {
          "output_type": "stream",
          "name": "stdout",
          "text": [
            "None\n",
            "+++====+++\n",
            "Percentage of outliers in median_income 3.2790094455048204\n"
          ]
        },
        {
          "output_type": "display_data",
          "data": {
            "text/plain": [
              "<Figure size 1200x400 with 2 Axes>"
            ],
            "image/png": "[encoded data removed]"
          },
          "metadata": {}
        },
        {
          "output_type": "stream",
          "name": "stdout",
          "text": [
            "None\n",
            "+++====+++\n",
            "Percentage of outliers in median_house_value 5.207262761219596\n"
          ]
        },
        {
          "output_type": "display_data",
          "data": {
            "text/plain": [
              "<Figure size 1200x400 with 2 Axes>"
            ],
            "image/png": "[encoded data removed]"
          },
          "metadata": {}
        },
        {
          "output_type": "stream",
          "name": "stdout",
          "text": [
            "None\n",
            "+++====+++\n"
          ]
        }
      ],
      "source": [
        "# Treating Numerical Values\n",
        "def outlier_detection_treatment(col):      # calculating the % of outliers & treating them\n",
        "    q1= df[col].quantile(0.25)\n",
        "    q3= df[col].quantile(0.75)\n",
        "    iqr= q3-q1\n",
        "    lf= q1- 1.5*iqr\n",
        "    uf= q3+ 1.5*iqr\n",
        "    outliers= df[(df[col]<lf) | (df[col]>uf)]\n",
        "    print(\"Percentage of outliers in\", col ,outliers.shape[0]*100/df.shape[0])\n",
        "    fig, ax= plt.subplots(1,2, figsize=(12,4))\n",
        "    ax[0].boxplot(df[col])\n",
        "    ax[1].hist(df[col])\n",
        "    plt.suptitle(col)\n",
        "    plt.show()\n",
        "    df.loc[(df[col]<lf) | (df[col]>uf), col]= df[col].median()\n",
        "\n",
        "for col in num:\n",
        "    print(outlier_detection_treatment(col))\n",
        "    print(\"+++====+++\")"
      ]
    },
    {
      "cell_type": "code",
      "execution_count": 16,
      "metadata": {
        "id": "WWK7mwluU-7I"
      },
      "outputs": [],
      "source": [
        "df = df.reset_index(drop=True)"
      ]
    },
    {
      "cell_type": "markdown",
      "metadata": {
        "id": "jCo1WlU693xn"
      },
      "source": [
        "# Encoding the Categorical Data"
      ]
    },
    {
      "cell_type": "code",
      "execution_count": 17,
      "metadata": {
        "id": "oWto5z5xCdAo"
      },
      "outputs": [],
      "source": [
        "from sklearn.preprocessing import OneHotEncoder"
      ]
    },
    {
      "cell_type": "code",
      "execution_count": 18,
      "metadata": {
        "colab": {
          "base_uri": "https://localhost:8080/"
        },
        "id": "uA5_SXmKCq-E",
        "outputId": "db45d7cd-1499-4e1c-bbf0-4e41f7914f86"
      },
      "outputs": [
        {
          "output_type": "stream",
          "name": "stderr",
          "text": [
            "/usr/local/lib/python3.10/dist-packages/sklearn/preprocessing/_encoders.py:975: FutureWarning: `sparse` was renamed to `sparse_output` in version 1.2 and will be removed in 1.4. `sparse_output` is ignored unless you leave `sparse` to its default value.\n",
            "  warnings.warn(\n"
          ]
        }
      ],
      "source": [
        "ohe_ocean=OneHotEncoder(sparse=False)\n",
        "ocean_arr=ohe_ocean.fit_transform(df[['ocean_proximity']])\n",
        "ocean=pd.DataFrame(ocean_arr, columns=ohe_ocean.categories_)\n"
      ]
    },
    {
      "cell_type": "code",
      "execution_count": 19,
      "metadata": {
        "id": "Nfni4HGcQZ-j"
      },
      "outputs": [],
      "source": [
        "ocean=ocean.drop('ISLAND', axis=1)"
      ]
    },
    {
      "cell_type": "code",
      "execution_count": 20,
      "metadata": {
        "colab": {
          "base_uri": "https://localhost:8080/",
          "height": 423
        },
        "collapsed": true,
        "id": "hjNX-nLGP5Dl",
        "outputId": "3dc61495-06b8-4a23-9be1-63bdd9413418"
      },
      "outputs": [
        {
          "output_type": "execute_result",
          "data": {
            "text/plain": [
              "      <1H OCEAN INLAND NEAR BAY NEAR OCEAN\n",
              "0           0.0    0.0      1.0        0.0\n",
              "1           0.0    0.0      1.0        0.0\n",
              "2           0.0    0.0      1.0        0.0\n",
              "3           0.0    0.0      1.0        0.0\n",
              "4           0.0    0.0      1.0        0.0\n",
              "...         ...    ...      ...        ...\n",
              "20428       0.0    1.0      0.0        0.0\n",
              "20429       0.0    1.0      0.0        0.0\n",
              "20430       0.0    1.0      0.0        0.0\n",
              "20431       0.0    1.0      0.0        0.0\n",
              "20432       0.0    1.0      0.0        0.0\n",
              "\n",
              "[20433 rows x 4 columns]"
            ],
            "text/html": [
              "\n",
              "  <div id=\"df-a37dfbc5-04a6-41a2-ac42-5994b701c555\" class=\"colab-df-container\">\n",
              "    <div>\n",
              "<style scoped>\n",
              "    .dataframe tbody tr th:only-of-type {\n",
              "        vertical-align: middle;\n",
              "    }\n",
              "\n",
              "    .dataframe tbody tr th {\n",
              "        vertical-align: top;\n",
              "    }\n",
              "\n",
              "    .dataframe thead tr th {\n",
              "        text-align: left;\n",
              "    }\n",
              "</style>\n",
              "<table border=\"1\" class=\"dataframe\">\n",
              "  <thead>\n",
              "    <tr>\n",
              "      <th></th>\n",
              "      <th>&lt;1H OCEAN</th>\n",
              "      <th>INLAND</th>\n",
              "      <th>NEAR BAY</th>\n",
              "      <th>NEAR OCEAN</th>\n",
              "    </tr>\n",
              "  </thead>\n",
              "  <tbody>\n",
              "    <tr>\n",
              "      <th>0</th>\n",
              "      <td>0.0</td>\n",
              "      <td>0.0</td>\n",
              "      <td>1.0</td>\n",
              "      <td>0.0</td>\n",
              "    </tr>\n",
              "    <tr>\n",
              "      <th>1</th>\n",
              "      <td>0.0</td>\n",
              "      <td>0.0</td>\n",
              "      <td>1.0</td>\n",
              "      <td>0.0</td>\n",
              "    </tr>\n",
              "    <tr>\n",
              "      <th>2</th>\n",
              "      <td>0.0</td>\n",
              "      <td>0.0</td>\n",
              "      <td>1.0</td>\n",
              "      <td>0.0</td>\n",
              "    </tr>\n",
              "    <tr>\n",
              "      <th>3</th>\n",
              "      <td>0.0</td>\n",
              "      <td>0.0</td>\n",
              "      <td>1.0</td>\n",
              "      <td>0.0</td>\n",
              "    </tr>\n",
              "    <tr>\n",
              "      <th>4</th>\n",
              "      <td>0.0</td>\n",
              "      <td>0.0</td>\n",
              "      <td>1.0</td>\n",
              "      <td>0.0</td>\n",
              "    </tr>\n",
              "    <tr>\n",
              "      <th>...</th>\n",
              "      <td>...</td>\n",
              "      <td>...</td>\n",
              "      <td>...</td>\n",
              "      <td>...</td>\n",
              "    </tr>\n",
              "    <tr>\n",
              "      <th>20428</th>\n",
              "      <td>0.0</td>\n",
              "      <td>1.0</td>\n",
              "      <td>0.0</td>\n",
              "      <td>0.0</td>\n",
              "    </tr>\n",
              "    <tr>\n",
              "      <th>20429</th>\n",
              "      <td>0.0</td>\n",
              "      <td>1.0</td>\n",
              "      <td>0.0</td>\n",
              "      <td>0.0</td>\n",
              "    </tr>\n",
              "    <tr>\n",
              "      <th>20430</th>\n",
              "      <td>0.0</td>\n",
              "      <td>1.0</td>\n",
              "      <td>0.0</td>\n",
              "      <td>0.0</td>\n",
              "    </tr>\n",
              "    <tr>\n",
              "      <th>20431</th>\n",
              "      <td>0.0</td>\n",
              "      <td>1.0</td>\n",
              "      <td>0.0</td>\n",
              "      <td>0.0</td>\n",
              "    </tr>\n",
              "    <tr>\n",
              "      <th>20432</th>\n",
              "      <td>0.0</td>\n",
              "      <td>1.0</td>\n",
              "      <td>0.0</td>\n",
              "      <td>0.0</td>\n",
              "    </tr>\n",
              "  </tbody>\n",
              "</table>\n",
              "<p>20433 rows × 4 columns</p>\n",
              "</div>\n",
              "    <div class=\"colab-df-buttons\">\n",
              "\n",
              "  <div class=\"colab-df-container\">\n",
              "    <button class=\"colab-df-convert\" onclick=\"convertToInteractive('df-a37dfbc5-04a6-41a2-ac42-5994b701c555')\"\n",
              "            title=\"Convert this dataframe to an interactive table.\"\n",
              "            style=\"display:none;\">\n",
              "\n",
              "  <svg xmlns=\"http://www.w3.org/2000/svg\" height=\"24px\" viewBox=\"0 -960 960 960\">\n",
              "    <path d=\"M120-120v-720h720v720H120Zm60-500h600v-160H180v160Zm220 220h160v-160H400v160Zm0 220h160v-160H400v160ZM180-400h160v-160H180v160Zm440 0h160v-160H620v160ZM180-180h160v-160H180v160Zm440 0h160v-160H620v160Z\"/>\n",
              "  </svg>\n",
              "    </button>\n",
              "\n",
              "  <style>\n",
              "    .colab-df-container {\n",
              "      display:flex;\n",
              "      gap: 12px;\n",
              "    }\n",
              "\n",
              "    .colab-df-convert {\n",
              "      background-color: #E8F0FE;\n",
              "      border: none;\n",
              "      border-radius: 50%;\n",
              "      cursor: pointer;\n",
              "      display: none;\n",
              "      fill: #1967D2;\n",
              "      height: 32px;\n",
              "      padding: 0 0 0 0;\n",
              "      width: 32px;\n",
              "    }\n",
              "\n",
              "    .colab-df-convert:hover {\n",
              "      background-color: #E2EBFA;\n",
              "      box-shadow: 0px 1px 2px rgba(60, 64, 67, 0.3), 0px 1px 3px 1px rgba(60, 64, 67, 0.15);\n",
              "      fill: #174EA6;\n",
              "    }\n",
              "\n",
              "    .colab-df-buttons div {\n",
              "      margin-bottom: 4px;\n",
              "    }\n",
              "\n",
              "    [theme=dark] .colab-df-convert {\n",
              "      background-color: #3B4455;\n",
              "      fill: #D2E3FC;\n",
              "    }\n",
              "\n",
              "    [theme=dark] .colab-df-convert:hover {\n",
              "      background-color: #434B5C;\n",
              "      box-shadow: 0px 1px 3px 1px rgba(0, 0, 0, 0.15);\n",
              "      filter: drop-shadow(0px 1px 2px rgba(0, 0, 0, 0.3));\n",
              "      fill: #FFFFFF;\n",
              "    }\n",
              "  </style>\n",
              "\n",
              "    <script>\n",
              "      const buttonEl =\n",
              "        document.querySelector('#df-a37dfbc5-04a6-41a2-ac42-5994b701c555 button.colab-df-convert');\n",
              "      buttonEl.style.display =\n",
              "        google.colab.kernel.accessAllowed ? 'block' : 'none';\n",
              "\n",
              "      async function convertToInteractive(key) {\n",
              "        const element = document.querySelector('#df-a37dfbc5-04a6-41a2-ac42-5994b701c555');\n",
              "        const dataTable =\n",
              "          await google.colab.kernel.invokeFunction('convertToInteractive',\n",
              "                                                    [key], {});\n",
              "        if (!dataTable) return;\n",
              "\n",
              "        const docLinkHtml = 'Like what you see? Visit the ' +\n",
              "          '<a target=\"_blank\" href=https://colab.research.google.com/notebooks/data_table.ipynb>data table notebook</a>'\n",
              "          + ' to learn more about interactive tables.';\n",
              "        element.innerHTML = '';\n",
              "        dataTable['output_type'] = 'display_data';\n",
              "        await google.colab.output.renderOutput(dataTable, element);\n",
              "        const docLink = document.createElement('div');\n",
              "        docLink.innerHTML = docLinkHtml;\n",
              "        element.appendChild(docLink);\n",
              "      }\n",
              "    </script>\n",
              "  </div>\n",
              "\n",
              "\n",
              "<div id=\"df-9022d232-aa89-4f47-8170-a002ef5920ac\">\n",
              "  <button class=\"colab-df-quickchart\" onclick=\"quickchart('df-9022d232-aa89-4f47-8170-a002ef5920ac')\"\n",
              "            title=\"Suggest charts\"\n",
              "            style=\"display:none;\">\n",
              "\n",
              "<svg xmlns=\"http://www.w3.org/2000/svg\" height=\"24px\"viewBox=\"0 0 24 24\"\n",
              "     width=\"24px\">\n",
              "    <g>\n",
              "        <path d=\"M19 3H5c-1.1 0-2 .9-2 2v14c0 1.1.9 2 2 2h14c1.1 0 2-.9 2-2V5c0-1.1-.9-2-2-2zM9 17H7v-7h2v7zm4 0h-2V7h2v10zm4 0h-2v-4h2v4z\"/>\n",
              "    </g>\n",
              "</svg>\n",
              "  </button>\n",
              "\n",
              "<style>\n",
              "  .colab-df-quickchart {\n",
              "      --bg-color: #E8F0FE;\n",
              "      --fill-color: #1967D2;\n",
              "      --hover-bg-color: #E2EBFA;\n",
              "      --hover-fill-color: #174EA6;\n",
              "      --disabled-fill-color: #AAA;\n",
              "      --disabled-bg-color: #DDD;\n",
              "  }\n",
              "\n",
              "  [theme=dark] .colab-df-quickchart {\n",
              "      --bg-color: #3B4455;\n",
              "      --fill-color: #D2E3FC;\n",
              "      --hover-bg-color: #434B5C;\n",
              "      --hover-fill-color: #FFFFFF;\n",
              "      --disabled-bg-color: #3B4455;\n",
              "      --disabled-fill-color: #666;\n",
              "  }\n",
              "\n",
              "  .colab-df-quickchart {\n",
              "    background-color: var(--bg-color);\n",
              "    border: none;\n",
              "    border-radius: 50%;\n",
              "    cursor: pointer;\n",
              "    display: none;\n",
              "    fill: var(--fill-color);\n",
              "    height: 32px;\n",
              "    padding: 0;\n",
              "    width: 32px;\n",
              "  }\n",
              "\n",
              "  .colab-df-quickchart:hover {\n",
              "    background-color: var(--hover-bg-color);\n",
              "    box-shadow: 0 1px 2px rgba(60, 64, 67, 0.3), 0 1px 3px 1px rgba(60, 64, 67, 0.15);\n",
              "    fill: var(--button-hover-fill-color);\n",
              "  }\n",
              "\n",
              "  .colab-df-quickchart-complete:disabled,\n",
              "  .colab-df-quickchart-complete:disabled:hover {\n",
              "    background-color: var(--disabled-bg-color);\n",
              "    fill: var(--disabled-fill-color);\n",
              "    box-shadow: none;\n",
              "  }\n",
              "\n",
              "  .colab-df-spinner {\n",
              "    border: 2px solid var(--fill-color);\n",
              "    border-color: transparent;\n",
              "    border-bottom-color: var(--fill-color);\n",
              "    animation:\n",
              "      spin 1s steps(1) infinite;\n",
              "  }\n",
              "\n",
              "  @keyframes spin {\n",
              "    0% {\n",
              "      border-color: transparent;\n",
              "      border-bottom-color: var(--fill-color);\n",
              "      border-left-color: var(--fill-color);\n",
              "    }\n",
              "    20% {\n",
              "      border-color: transparent;\n",
              "      border-left-color: var(--fill-color);\n",
              "      border-top-color: var(--fill-color);\n",
              "    }\n",
              "    30% {\n",
              "      border-color: transparent;\n",
              "      border-left-color: var(--fill-color);\n",
              "      border-top-color: var(--fill-color);\n",
              "      border-right-color: var(--fill-color);\n",
              "    }\n",
              "    40% {\n",
              "      border-color: transparent;\n",
              "      border-right-color: var(--fill-color);\n",
              "      border-top-color: var(--fill-color);\n",
              "    }\n",
              "    60% {\n",
              "      border-color: transparent;\n",
              "      border-right-color: var(--fill-color);\n",
              "    }\n",
              "    80% {\n",
              "      border-color: transparent;\n",
              "      border-right-color: var(--fill-color);\n",
              "      border-bottom-color: var(--fill-color);\n",
              "    }\n",
              "    90% {\n",
              "      border-color: transparent;\n",
              "      border-bottom-color: var(--fill-color);\n",
              "    }\n",
              "  }\n",
              "</style>\n",
              "\n",
              "  <script>\n",
              "    async function quickchart(key) {\n",
              "      const quickchartButtonEl =\n",
              "        document.querySelector('#' + key + ' button');\n",
              "      quickchartButtonEl.disabled = true;  // To prevent multiple clicks.\n",
              "      quickchartButtonEl.classList.add('colab-df-spinner');\n",
              "      try {\n",
              "        const charts = await google.colab.kernel.invokeFunction(\n",
              "            'suggestCharts', [key], {});\n",
              "      } catch (error) {\n",
              "        console.error('Error during call to suggestCharts:', error);\n",
              "      }\n",
              "      quickchartButtonEl.classList.remove('colab-df-spinner');\n",
              "      quickchartButtonEl.classList.add('colab-df-quickchart-complete');\n",
              "    }\n",
              "    (() => {\n",
              "      let quickchartButtonEl =\n",
              "        document.querySelector('#df-9022d232-aa89-4f47-8170-a002ef5920ac button');\n",
              "      quickchartButtonEl.style.display =\n",
              "        google.colab.kernel.accessAllowed ? 'block' : 'none';\n",
              "    })();\n",
              "  </script>\n",
              "</div>\n",
              "\n",
              "  <div id=\"id_a2a8712a-ab1a-4785-af65-2a4d7487ba1d\">\n",
              "    <style>\n",
              "      .colab-df-generate {\n",
              "        background-color: #E8F0FE;\n",
              "        border: none;\n",
              "        border-radius: 50%;\n",
              "        cursor: pointer;\n",
              "        display: none;\n",
              "        fill: #1967D2;\n",
              "        height: 32px;\n",
              "        padding: 0 0 0 0;\n",
              "        width: 32px;\n",
              "      }\n",
              "\n",
              "      .colab-df-generate:hover {\n",
              "        background-color: #E2EBFA;\n",
              "        box-shadow: 0px 1px 2px rgba(60, 64, 67, 0.3), 0px 1px 3px 1px rgba(60, 64, 67, 0.15);\n",
              "        fill: #174EA6;\n",
              "      }\n",
              "\n",
              "      [theme=dark] .colab-df-generate {\n",
              "        background-color: #3B4455;\n",
              "        fill: #D2E3FC;\n",
              "      }\n",
              "\n",
              "      [theme=dark] .colab-df-generate:hover {\n",
              "        background-color: #434B5C;\n",
              "        box-shadow: 0px 1px 3px 1px rgba(0, 0, 0, 0.15);\n",
              "        filter: drop-shadow(0px 1px 2px rgba(0, 0, 0, 0.3));\n",
              "        fill: #FFFFFF;\n",
              "      }\n",
              "    </style>\n",
              "    <button class=\"colab-df-generate\" onclick=\"generateWithVariable('ocean')\"\n",
              "            title=\"Generate code using this dataframe.\"\n",
              "            style=\"display:none;\">\n",
              "\n",
              "  <svg xmlns=\"http://www.w3.org/2000/svg\" height=\"24px\"viewBox=\"0 0 24 24\"\n",
              "       width=\"24px\">\n",
              "    <path d=\"M7,19H8.4L18.45,9,17,7.55,7,17.6ZM5,21V16.75L18.45,3.32a2,2,0,0,1,2.83,0l1.4,1.43a1.91,1.91,0,0,1,.58,1.4,1.91,1.91,0,0,1-.58,1.4L9.25,21ZM18.45,9,17,7.55Zm-12,3A5.31,5.31,0,0,0,4.9,8.1,5.31,5.31,0,0,0,1,6.5,5.31,5.31,0,0,0,4.9,4.9,5.31,5.31,0,0,0,6.5,1,5.31,5.31,0,0,0,8.1,4.9,5.31,5.31,0,0,0,12,6.5,5.46,5.46,0,0,0,6.5,12Z\"/>\n",
              "  </svg>\n",
              "    </button>\n",
              "    <script>\n",
              "      (() => {\n",
              "      const buttonEl =\n",
              "        document.querySelector('#id_a2a8712a-ab1a-4785-af65-2a4d7487ba1d button.colab-df-generate');\n",
              "      buttonEl.style.display =\n",
              "        google.colab.kernel.accessAllowed ? 'block' : 'none';\n",
              "\n",
              "      buttonEl.onclick = () => {\n",
              "        google.colab.notebook.generateWithVariable('ocean');\n",
              "      }\n",
              "      })();\n",
              "    </script>\n",
              "  </div>\n",
              "\n",
              "    </div>\n",
              "  </div>\n"
            ],
            "application/vnd.google.colaboratory.intrinsic+json": {
              "type": "dataframe",
              "variable_name": "ocean",
              "summary": "{\n  \"name\": \"ocean\",\n  \"rows\": 20433,\n  \"fields\": [\n    {\n      \"column\": [\n        \"<1H OCEAN\"\n      ],\n      \"properties\": {\n        \"dtype\": \"number\",\n        \"std\": 0.4966516841209352,\n        \"min\": 0.0,\n        \"max\": 1.0,\n        \"num_unique_values\": 2,\n        \"samples\": [\n          1.0,\n          0.0\n        ],\n        \"semantic_type\": \"\",\n        \"description\": \"\"\n      }\n    },\n    {\n      \"column\": [\n        \"INLAND\"\n      ],\n      \"properties\": {\n        \"dtype\": \"number\",\n        \"std\": 0.46567846065459884,\n        \"min\": 0.0,\n        \"max\": 1.0,\n        \"num_unique_values\": 2,\n        \"samples\": [\n          1.0,\n          0.0\n        ],\n        \"semantic_type\": \"\",\n        \"description\": \"\"\n      }\n    },\n    {\n      \"column\": [\n        \"NEAR BAY\"\n      ],\n      \"properties\": {\n        \"dtype\": \"number\",\n        \"std\": 0.3142571825905633,\n        \"min\": 0.0,\n        \"max\": 1.0,\n        \"num_unique_values\": 2,\n        \"samples\": [\n          0.0,\n          1.0\n        ],\n        \"semantic_type\": \"\",\n        \"description\": \"\"\n      }\n    },\n    {\n      \"column\": [\n        \"NEAR OCEAN\"\n      ],\n      \"properties\": {\n        \"dtype\": \"number\",\n        \"std\": 0.3347820481484505,\n        \"min\": 0.0,\n        \"max\": 1.0,\n        \"num_unique_values\": 2,\n        \"samples\": [\n          1.0,\n          0.0\n        ],\n        \"semantic_type\": \"\",\n        \"description\": \"\"\n      }\n    }\n  ]\n}"
            }
          },
          "metadata": {},
          "execution_count": 20
        }
      ],
      "source": [
        "ocean"
      ]
    },
    {
      "cell_type": "code",
      "execution_count": 20,
      "metadata": {
        "id": "m96zUTAZ99rI"
      },
      "outputs": [],
      "source": []
    },
    {
      "cell_type": "markdown",
      "metadata": {
        "id": "HjSiJsju99_v"
      },
      "source": [
        "# Splitting the Independent and Dependent Variables"
      ]
    },
    {
      "cell_type": "code",
      "execution_count": 21,
      "metadata": {
        "id": "4tSOXEINSnL5"
      },
      "outputs": [],
      "source": [
        "x=df.drop(['ocean_proximity', 'median_house_value'],axis=1)\n",
        "y=df['median_house_value']"
      ]
    },
    {
      "cell_type": "code",
      "execution_count": 22,
      "metadata": {
        "colab": {
          "base_uri": "https://localhost:8080/"
        },
        "id": "-aTFsruOUZYQ",
        "outputId": "cc0ad099-8781-4284-91a6-0a465123c7f3"
      },
      "outputs": [
        {
          "output_type": "execute_result",
          "data": {
            "text/plain": [
              "(20433, 8)"
            ]
          },
          "metadata": {},
          "execution_count": 22
        }
      ],
      "source": [
        "x.shape"
      ]
    },
    {
      "cell_type": "code",
      "execution_count": 23,
      "metadata": {
        "id": "PAv8tr9hSnOi"
      },
      "outputs": [],
      "source": [
        "x=pd.concat([x,ocean],axis=1)"
      ]
    },
    {
      "cell_type": "code",
      "execution_count": 24,
      "metadata": {
        "colab": {
          "base_uri": "https://localhost:8080/"
        },
        "id": "IFwxF0WFUUo_",
        "outputId": "0c86eecc-c880-4709-ea25-b3ed52d73c3b"
      },
      "outputs": [
        {
          "output_type": "execute_result",
          "data": {
            "text/plain": [
              "(20433, 12)"
            ]
          },
          "metadata": {},
          "execution_count": 24
        }
      ],
      "source": [
        "x.shape"
      ]
    },
    {
      "cell_type": "code",
      "execution_count": 25,
      "metadata": {
        "id": "XvXV4k5wC-HZ"
      },
      "outputs": [],
      "source": [
        "x=x.values\n",
        "y=y.values"
      ]
    },
    {
      "cell_type": "code",
      "execution_count": 26,
      "metadata": {
        "colab": {
          "base_uri": "https://localhost:8080/"
        },
        "id": "-64Xuq0QUDcj",
        "outputId": "c1f6abd5-639f-44a5-f487-bf879d0e4d71"
      },
      "outputs": [
        {
          "output_type": "execute_result",
          "data": {
            "text/plain": [
              "(20433, 12)"
            ]
          },
          "metadata": {},
          "execution_count": 26
        }
      ],
      "source": [
        "x.shape"
      ]
    },
    {
      "cell_type": "code",
      "execution_count": 27,
      "metadata": {
        "colab": {
          "base_uri": "https://localhost:8080/"
        },
        "id": "RcbcNSrgUDjL",
        "outputId": "522f58fb-969b-4c5a-d937-262024be2c98"
      },
      "outputs": [
        {
          "output_type": "execute_result",
          "data": {
            "text/plain": [
              "(20433,)"
            ]
          },
          "metadata": {},
          "execution_count": 27
        }
      ],
      "source": [
        "y.shape"
      ]
    },
    {
      "cell_type": "markdown",
      "metadata": {
        "id": "N8aL7LCH-GNO"
      },
      "source": [
        "# Segmenting Training and Testing Data"
      ]
    },
    {
      "cell_type": "code",
      "execution_count": 28,
      "metadata": {
        "id": "D8fItSwEEQL1"
      },
      "outputs": [],
      "source": [
        "from sklearn.model_selection import train_test_split"
      ]
    },
    {
      "cell_type": "code",
      "execution_count": 29,
      "metadata": {
        "id": "QkBMYzIHEZyC"
      },
      "outputs": [],
      "source": [
        "x_train,x_test,y_train,y_test=train_test_split(x,y,test_size=0.3,random_state=10)"
      ]
    },
    {
      "cell_type": "code",
      "execution_count": 30,
      "metadata": {
        "colab": {
          "base_uri": "https://localhost:8080/"
        },
        "id": "zaoYe-FpfXFW",
        "outputId": "a504f1ba-d270-4251-db81-5c26509e7b9d"
      },
      "outputs": [
        {
          "output_type": "execute_result",
          "data": {
            "text/plain": [
              "(6130,)"
            ]
          },
          "metadata": {},
          "execution_count": 30
        }
      ],
      "source": [
        "y_test.shape"
      ]
    },
    {
      "cell_type": "code",
      "execution_count": 31,
      "metadata": {
        "colab": {
          "base_uri": "https://localhost:8080/"
        },
        "id": "GyxypTigEpTx",
        "outputId": "f44159e0-f4e1-44eb-9686-dea52e6e5450"
      },
      "outputs": [
        {
          "output_type": "execute_result",
          "data": {
            "text/plain": [
              "(14303, 12)"
            ]
          },
          "metadata": {},
          "execution_count": 31
        }
      ],
      "source": [
        "x_train.shape"
      ]
    },
    {
      "cell_type": "markdown",
      "metadata": {
        "id": "L2sNm063-IgW"
      },
      "source": [
        "# Applying Linear Regression Model"
      ]
    },
    {
      "cell_type": "code",
      "execution_count": 45,
      "metadata": {
        "colab": {
          "base_uri": "https://localhost:8080/"
        },
        "id": "yGSM-iVPVpHK",
        "outputId": "ba81acd1-1ea7-4df3-810c-88df2f8bc721"
      },
      "outputs": [
        {
          "output_type": "stream",
          "name": "stdout",
          "text": [
            "Model saved as 'model.pkl'\n",
            "Training Data Evaluation\n",
            "Mean Squared Error: 4299349797.790157\n",
            "R^2 Score: 0.5066397138653298\n",
            "\n",
            "Testing Data Evaluation\n",
            "Mean Squared Error: 4205775792.7677255\n",
            "R^2 Score: 0.5020086451336663\n"
          ]
        }
      ],
      "source": [
        "import pickle\n",
        "from sklearn.linear_model import LinearRegression\n",
        "from sklearn.metrics import mean_squared_error, r2_score\n",
        "model = LinearRegression()\n",
        "model.fit(x_train, y_train)\n",
        "y_pred_train_lr = model.predict(x_train)\n",
        "y_pred_test_lr = model.predict(x_test)\n",
        "\n",
        "with open('model.pkl', 'wb') as f:\n",
        "    pickle.dump(model, f)\n",
        "print(\"Model saved as 'model.pkl'\")\n",
        "\n",
        "print('Training Data Evaluation')\n",
        "print(\"Mean Squared Error:\", mean_squared_error(y_train, y_pred_train_lr))\n",
        "print(\"R^2 Score:\", r2_score(y_train, y_pred_train_lr))\n",
        "\n",
        "print('\\nTesting Data Evaluation')\n",
        "print(\"Mean Squared Error:\", mean_squared_error(y_test, y_pred_test_lr))\n",
        "print(\"R^2 Score:\", r2_score(y_test, y_pred_test_lr))"
      ]
    },
    {
      "cell_type": "markdown",
      "metadata": {
        "id": "U4cdIfC7-u5q"
      },
      "source": [
        "# Applying Polynomial Regression Model"
      ]
    },
    {
      "cell_type": "code",
      "execution_count": 34,
      "metadata": {
        "colab": {
          "base_uri": "https://localhost:8080/"
        },
        "id": "3Q7oaG-oh1C7",
        "outputId": "2b56e7d5-9711-460d-97ca-c8f105f26c4f"
      },
      "outputs": [
        {
          "output_type": "stream",
          "name": "stdout",
          "text": [
            "Training Data Evaluation:\n",
            "Mean Squared Error: 3364864305.567584\n",
            "R^2 Score: 0.6138740752258773\n",
            "\n",
            "Testing Data Evaluation:\n",
            "Mean Squared Error: 3438240352.988014\n",
            "R^2 Score: 0.5928898600146648\n"
          ]
        }
      ],
      "source": [
        "from sklearn.preprocessing import PolynomialFeatures\n",
        "degree = 3\n",
        "poly = PolynomialFeatures(degree=degree)\n",
        "X_poly_train = poly.fit_transform(x_train)\n",
        "X_poly_test = poly.transform(x_test)\n",
        "model = LinearRegression()\n",
        "model.fit(X_poly_train, y_train)\n",
        "\n",
        "y_train_pred = model.predict(X_poly_train)\n",
        "y_test_pred = model.predict(X_poly_test)\n",
        "\n",
        "# Evaluate the model\n",
        "print(\"Training Data Evaluation:\")\n",
        "print(\"Mean Squared Error:\", mean_squared_error(y_train, y_train_pred))\n",
        "print(\"R^2 Score:\", r2_score(y_train, y_train_pred))\n",
        "\n",
        "print(\"\\nTesting Data Evaluation:\")\n",
        "print(\"Mean Squared Error:\", mean_squared_error(y_test, y_test_pred))\n",
        "print(\"R^2 Score:\", r2_score(y_test, y_test_pred))"
      ]
    },
    {
      "cell_type": "markdown",
      "metadata": {
        "id": "zsih1FPEB2Mp"
      },
      "source": [
        "# Applying Support Vector Regressor Model"
      ]
    },
    {
      "cell_type": "code",
      "execution_count": 35,
      "metadata": {
        "colab": {
          "base_uri": "https://localhost:8080/"
        },
        "id": "WrKDLl9v-yFq",
        "outputId": "83e4d09f-cb66-4d25-c81e-05632f22b3a8"
      },
      "outputs": [
        {
          "output_type": "stream",
          "name": "stdout",
          "text": [
            "Fitting 3 folds for each of 10 candidates, totalling 30 fits\n",
            "Training Data Evaluation:\n",
            "SVR RMSE: 87403.65173281883\n",
            "SVR R2 Score: 0.12336145549326549\n",
            "\n",
            "Testing Data Evaluation:\n",
            "SVR RMSE: 7415057140.071483\n",
            "SVR R2 Score: 0.1220087485535124\n"
          ]
        }
      ],
      "source": [
        "from sklearn.svm import SVR\n",
        "from sklearn.preprocessing import StandardScaler\n",
        "from sklearn.model_selection import RandomizedSearchCV\n",
        "from sklearn.pipeline import make_pipeline\n",
        "\n",
        "svr_pipeline = make_pipeline(StandardScaler(), SVR())\n",
        "param_grid = {\n",
        "    'svr__kernel': ['linear', 'rbf'],\n",
        "    'svr__C': [0.01, 0.1, 0.5, 1.0],\n",
        "    'svr__gamma': ['scale', 'auto']\n",
        "}\n",
        "\n",
        "random_search = RandomizedSearchCV(svr_pipeline, param_grid, n_iter=10, cv=3, verbose=2, n_jobs=-1, scoring='neg_mean_squared_error')\n",
        "random_search.fit(x_train, y_train)\n",
        "\n",
        "# Predictions and evaluation\n",
        "y_pred_train_svr = random_search.best_estimator_.predict(x_train)\n",
        "y_pred_test_svr = random_search.best_estimator_.predict(x_test)\n",
        "\n",
        "print(\"Training Data Evaluation:\")\n",
        "print('SVR RMSE:',mean_squared_error(y_train,y_pred_train_svr)**0.5)\n",
        "print('SVR R2 Score:',r2_score(y_train,y_pred_train_svr))\n",
        "\n",
        "y_pred_test_svr=random_search.predict(x_test)\n",
        "\n",
        "print(\"\\nTesting Data Evaluation:\")\n",
        "print('SVR RMSE:',mean_squared_error(y_test,y_pred_test_svr))\n",
        "print('SVR R2 Score:',r2_score(y_test,y_pred_test_svr))"
      ]
    },
    {
      "cell_type": "markdown",
      "metadata": {
        "id": "b5oFzJ1UBteG"
      },
      "source": [
        "#Applying Decision Tree Regressor"
      ]
    },
    {
      "cell_type": "code",
      "execution_count": 36,
      "metadata": {
        "colab": {
          "base_uri": "https://localhost:8080/"
        },
        "id": "45V4vCv0-yIH",
        "outputId": "63015b0b-bb4d-4f03-dfcc-f5de49cc59d1"
      },
      "outputs": [
        {
          "output_type": "stream",
          "name": "stdout",
          "text": [
            "Fitting 7 folds for each of 45 candidates, totalling 315 fits\n",
            "Training Data Evaluation:\n",
            "Decision Tree RMSE: 58879.85252831132\n",
            "Decision Tree R2 Score: 0.6021724699313569\n",
            "\n",
            "Testing Data Evaluation:\n",
            "Decision Tree RMSE: 4280506321.8490415\n",
            "Decision Tree R2 Score: 0.4931600618375529\n"
          ]
        }
      ],
      "source": [
        "from sklearn.tree import DecisionTreeRegressor\n",
        "from sklearn.model_selection import GridSearchCV\n",
        "param_grid={\n",
        "    'max_depth':[10, 15, 20, 25, 30],\n",
        "    'min_samples_split':[5,10,15],\n",
        "    'min_samples_leaf':[2,4,6],\n",
        "    'criterion':[ 'squared_error'],\n",
        "    'max_features': ['sqrt']\n",
        "}\n",
        "\n",
        "gridtree=GridSearchCV(DecisionTreeRegressor(random_state=0),param_grid,cv=7,scoring='neg_mean_squared_error',verbose=2, n_jobs=-1)\n",
        "\n",
        "gridtree.fit(x_train,y_train)\n",
        "\n",
        "best_model = gridtree.best_estimator_\n",
        "\n",
        "y_pred_traindt=best_model.predict(x_train)\n",
        "y_pred_testdt=best_model.predict(x_test)\n",
        "\n",
        "print(\"Training Data Evaluation:\")\n",
        "print('Decision Tree RMSE:',mean_squared_error(y_train,y_pred_traindt)**0.5)\n",
        "print('Decision Tree R2 Score:',r2_score(y_train,y_pred_traindt))\n",
        "\n",
        "print(\"\\nTesting Data Evaluation:\")\n",
        "print('Decision Tree RMSE:',mean_squared_error(y_test,y_pred_testdt))\n",
        "print('Decision Tree R2 Score:',r2_score(y_test,y_pred_testdt))"
      ]
    },
    {
      "cell_type": "markdown",
      "metadata": {
        "id": "eRitIwU3cD12"
      },
      "source": [
        "# Applying Random Forest"
      ]
    },
    {
      "cell_type": "code",
      "execution_count": 38,
      "metadata": {
        "colab": {
          "base_uri": "https://localhost:8080/"
        },
        "id": "jwmd-XPk-yKa",
        "outputId": "e998956a-8da5-42c2-8fd2-de2af192e4cb"
      },
      "outputs": [
        {
          "output_type": "stream",
          "name": "stdout",
          "text": [
            "Fitting 5 folds for each of 54 candidates, totalling 270 fits\n",
            "Training Data Evaluation:\n",
            "Random Forest RMSE: 21876.623213716084\n",
            "Random Forest R2 Score: 0.9450810810118394\n",
            "\n",
            "Testing Data Evaluation:\n",
            "Random Forest RMSE: 2727829530.265222\n",
            "Random Forest R2 Score: 0.6770071467059311\n"
          ]
        }
      ],
      "source": [
        "from sklearn.ensemble import RandomForestRegressor\n",
        "param_grid_rf = {\n",
        "    'n_estimators': [100, 200],\n",
        "    'max_depth': [10, 15, 20],\n",
        "    'min_samples_split': [2, 5, 10],\n",
        "    'min_samples_leaf': [1, 3, 5],\n",
        "    'criterion': ['squared_error'],\n",
        "    'max_features': ['sqrt']\n",
        "}\n",
        "gridrf=GridSearchCV(RandomForestRegressor(random_state=0),param_grid_rf,cv=5,scoring='neg_mean_squared_error',verbose=2, n_jobs=-1)\n",
        "\n",
        "gridrf.fit(x_train,y_train)\n",
        "\n",
        "y_pred_trainrf=gridrf.predict(x_train)\n",
        "y_pred_testrf=gridrf.predict(x_test)\n",
        "\n",
        "print(\"Training Data Evaluation:\")\n",
        "print('Random Forest RMSE:',mean_squared_error(y_train,y_pred_trainrf)**0.5)\n",
        "print('Random Forest R2 Score:',r2_score(y_train,y_pred_trainrf))\n",
        "\n",
        "print(\"\\nTesting Data Evaluation:\")\n",
        "print('Random Forest RMSE:',mean_squared_error(y_test,y_pred_testrf))\n",
        "print('Random Forest R2 Score:',r2_score(y_test,y_pred_testrf))"
      ]
    },
    {
      "cell_type": "code",
      "execution_count": 42,
      "metadata": {
        "id": "fPHUujpR-yR0",
        "colab": {
          "base_uri": "https://localhost:8080/",
          "height": 564
        },
        "outputId": "9e803572-b88c-4904-d744-36a902d158a9"
      },
      "outputs": [
        {
          "output_type": "display_data",
          "data": {
            "text/plain": [
              "<Figure size 1000x600 with 1 Axes>"
            ],
            "image/png": "[encoded data removed]"
          },
          "metadata": {}
        }
      ],
      "source": [
        "from sklearn import metrics\n",
        "import pandas as pd\n",
        "import seaborn as sns\n",
        "import matplotlib.pyplot as plt\n",
        "\n",
        "# Calculate accuracy scores for training and test data\n",
        "train_score1 = metrics.r2_score(y_train, y_pred_train_lr)*100\n",
        "train_score2 = metrics.r2_score(y_train, y_train_pred)*100\n",
        "train_score3 = metrics.r2_score(y_train, y_pred_train_svr)*100\n",
        "train_score4 = metrics.r2_score(y_train, y_pred_traindt)*100\n",
        "train_score5 = metrics.r2_score(y_train, y_pred_trainrf)*100\n",
        "\n",
        "test_score1 = metrics.r2_score(y_test, y_pred_test_lr)*100\n",
        "test_score2 = metrics.r2_score(y_test, y_test_pred)*100\n",
        "test_score3 = metrics.r2_score(y_test, y_pred_test_svr)*100\n",
        "test_score4 = metrics.r2_score(y_test, y_pred_testdt)*100\n",
        "test_score5 = metrics.r2_score(y_test, y_pred_testrf)*100\n",
        "\n",
        "# Create a DataFrame for plotting\n",
        "final_data = pd.DataFrame({\n",
        "    'MODELS': ['Linear Regression', 'Polynomial Regression', 'SVR', 'Decision Tree', 'Random Forest'],\n",
        "    \"Train Accuracy\": [train_score1, train_score2, train_score3, train_score4, train_score5],\n",
        "    \"Test Accuracy\": [test_score1, test_score2, test_score3, test_score4, test_score5]\n",
        "})\n",
        "\n",
        "# Melt the DataFrame\n",
        "final_data_melted = pd.melt(final_data, id_vars=['MODELS'], var_name='Accuracy Type', value_name='Accuracy')\n",
        "\n",
        "# Plotting the stacked bar chart\n",
        "plt.figure(figsize=(10, 6))\n",
        "barplot = sns.barplot(x='MODELS', y='Accuracy', hue='Accuracy Type', data=final_data_melted)\n",
        "\n",
        "# Add labels on top of each bar\n",
        "for container in barplot.containers:\n",
        "    barplot.bar_label(container, fmt='%.2f', label_type='center', padding=3)\n",
        "\n",
        "# Set labels and title\n",
        "plt.xlabel('Models')\n",
        "plt.ylabel('R2 Score (%)')\n",
        "plt.title('Model Train vs Test R2 Score Comparison')\n",
        "\n",
        "# Display the plot\n",
        "plt.show()\n"
      ]
    },
    {
      "cell_type": "code",
      "execution_count": 46,
      "metadata": {
        "id": "gpTa0oINLlAx"
      },
      "outputs": [],
      "source": []
    },
    {
      "cell_type": "code",
      "execution_count": 46,
      "metadata": {
        "id": "vyfRHG1iJndP"
      },
      "outputs": [],
      "source": []
    },
    {
      "cell_type": "code",
      "execution_count": null,
      "metadata": {
        "id": "bLs27ibRnUsU"
      },
      "outputs": [],
      "source": []
    }
  ],
  "metadata": {
    "accelerator": "TPU",
    "colab": {
      "gpuType": "V28",
      "provenance": []
    },
    "kernelspec": {
      "display_name": "Python 3",
      "name": "python3"
    },
    "language_info": {
      "name": "python"
    }
  },
  "nbformat": 4,
  "nbformat_minor": 0
}